{
 "cells": [
  {
   "cell_type": "code",
   "execution_count": 1,
   "metadata": {
    "collapsed": true
   },
   "outputs": [],
   "source": [
    "import numpy as np\n",
    "\n",
    "# importamos bibliotecas para plotear\n",
    "import matplotlib\n",
    "import matplotlib.pyplot as plt\n",
    "\n",
    "# para desplegar los plots en el notebook\n",
    "%matplotlib inline\n",
    "\n",
    "def cobweb(f, x, y):\n",
    "    \"\"\"\n",
    "    Dibuja un diagrama de telaraña para una función.\n",
    "    \"\"\"\n",
    "    plt.axhline(linewidth=1.0, color=\"black\")\n",
    "    plt.axvline(linewidth=1.0, color=\"black\")\n",
    "    plt.ylim((y.min(),y.max()))\n",
    "    indep = np.linspace(x.min(), x.max(), len(x))\n",
    "        \n",
    "    # grafica la funcion \n",
    "    plt.plot(indep,f(indep),'blue')\n",
    "        \n",
    "    # grafica la diagonal\n",
    "    def diag(x):\n",
    "        return x\n",
    "    plt.plot(indep, diag(indep), 'black')\n",
    "\n",
    "    # grafica la telaraña\n",
    "    y0 = f(x[0])\n",
    "    x0 = x[0]\n",
    "    for i in range(len(x)):\n",
    "        plt.hlines(y0, x0, y0,'r')\n",
    "        x0 = y0\n",
    "        y0 = f(x0)\n",
    "        plt.vlines(x0, x0, y0,'r')"
   ]
  },
  {
   "cell_type": "code",
   "execution_count": 2,
   "metadata": {
    "collapsed": false
   },
   "outputs": [
    {
     "data": {
      "image/png": "[encoded data removed]",
      "text/plain": [
       "<matplotlib.figure.Figure at 0xb506690c>"
      ]
     },
     "metadata": {},
     "output_type": "display_data"
    }
   ],
   "source": [
    "def g(x):\n",
    "    alfa = 1\n",
    "    beta = 1\n",
    "    return (alfa*x)/(1+ beta * x)\n",
    "\n",
    "x = np.linspace(10,100,1000)\n",
    "g_x = g(x)\n",
    "cobweb(g,x,g_x)\n",
    "#plt.axis('equal')"
   ]
  },
  {
   "cell_type": "code",
   "execution_count": 7,
   "metadata": {
    "collapsed": false
   },
   "outputs": [
    {
     "data": {
      "image/png": "[encoded data removed]",
      "text/latex": [
       "$$f{\\left (x \\right )} = \\frac{\\alpha x}{\\beta x + 1}$$"
      ],
      "text/plain": [
       "         α⋅x  \n",
       "f(x) = ───────\n",
       "       β⋅x + 1"
      ]
     },
     "execution_count": 7,
     "metadata": {},
     "output_type": "execute_result"
    }
   ],
   "source": [
    "from sympy import *\n",
    "#init_session()\n",
    "alpha, beta, x = symbols('alpha beta x')\n",
    "f = symbols('f', cls=Function)\n",
    "init_printing()\n",
    "\n",
    "x1 = (alpha*x)/(1+beta*x)\n",
    "ff=Eq(f(x), x1)\n",
    "ff"
   ]
  },
  {
   "cell_type": "code",
   "execution_count": 4,
   "metadata": {
    "collapsed": false
   },
   "outputs": [
    {
     "data": {
      "image/png": "[encoded data removed]",
      "text/latex": [
       "$$f{\\left (f{\\left (x \\right )} \\right )} = \\frac{\\alpha^{2} x}{\\alpha \\beta x + \\beta x + 1}$$"
      ],
      "text/plain": [
       "                 2       \n",
       "                α ⋅x     \n",
       "f(f(x)) = ───────────────\n",
       "          α⋅β⋅x + β⋅x + 1"
      ]
     },
     "execution_count": 4,
     "metadata": {},
     "output_type": "execute_result"
    }
   ],
   "source": [
    "f1 = simplify(x1.subs(x, x1))\n",
    "\n",
    "Eq(f(f(x)),f1)"
   ]
  },
  {
   "cell_type": "code",
   "execution_count": 9,
   "metadata": {
    "collapsed": false
   },
   "outputs": [
    {
     "data": {
      "image/png": "[encoded data removed]",
      "text/latex": [
       "$$f{\\left (f{\\left (f{\\left (x \\right )} \\right )} \\right )} = \\frac{\\alpha^{3} x}{\\alpha^{2} \\beta x + \\alpha \\beta x + \\beta x + 1}$$"
      ],
      "text/plain": [
       "                        3            \n",
       "                       α ⋅x          \n",
       "f(f(f(x))) = ────────────────────────\n",
       "              2                      \n",
       "             α ⋅β⋅x + α⋅β⋅x + β⋅x + 1"
      ]
     },
     "execution_count": 9,
     "metadata": {},
     "output_type": "execute_result"
    }
   ],
   "source": [
    "f2 = simplify(x1.subs(x, x1).subs(x,x1))\n",
    "Eq(f(f(f(x))),f2)"
   ]
  },
  {
   "cell_type": "code",
   "execution_count": 5,
   "metadata": {
    "collapsed": false
   },
   "outputs": [
    {
     "data": {
      "image/png": "[encoded data removed]",
      "text/latex": [
       "$$\\left\\{0, \\frac{1}{\\beta} \\left(\\alpha - 1\\right)\\right\\} \\setminus \\left\\{- \\frac{1}{\\beta \\left(\\alpha + 1\\right)}\\right\\}$$"
      ],
      "text/plain": [
       "⎧   α - 1⎫   ⎧   -1    ⎫\n",
       "⎨0, ─────⎬ \\ ⎨─────────⎬\n",
       "⎩     β  ⎭   ⎩β⋅(α + 1)⎭"
      ]
     },
     "execution_count": 5,
     "metadata": {},
     "output_type": "execute_result"
    }
   ],
   "source": [
    "solveset(Eq(f1,x),x)"
   ]
  },
  {
   "cell_type": "code",
   "execution_count": 6,
   "metadata": {
    "collapsed": false
   },
   "outputs": [
    {
     "data": {
      "image/png": "[encoded data removed]",
      "text/latex": [
       "$$\\left\\{0, 2\\right\\}$$"
      ],
      "text/plain": [
       "{0, 2}"
      ]
     },
     "execution_count": 6,
     "metadata": {},
     "output_type": "execute_result"
    }
   ],
   "source": [
    "solveset(Eq(f1.subs(alpha, 13).subs(beta,6), x), x)"
   ]
  }
 ],
 "metadata": {
  "kernelspec": {
   "display_name": "Python 3",
   "language": "python",
   "name": "python3"
  },
  "language_info": {
   "codemirror_mode": {
    "name": "ipython",
    "version": 3
   },
   "file_extension": ".py",
   "mimetype": "text/x-python",
   "name": "python",
   "nbconvert_exporter": "python",
   "pygments_lexer": "ipython3",
   "version": "3.4.3"
  }
 },
 "nbformat": 4,
 "nbformat_minor": 1
}
