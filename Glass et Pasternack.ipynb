{
 "cells": [
  {
   "cell_type": "code",
   "execution_count": 1,
   "metadata": {
    "collapsed": true
   },
   "outputs": [],
   "source": [
    "import numpy as np\n",
    "\n",
    "# importamos bibliotecas para plotear\n",
    "import matplotlib\n",
    "import matplotlib.pyplot as plt\n",
    "\n",
    "# para desplegar los plots en el notebook\n",
    "%matplotlib inline\n",
    "\n",
    "# para cómputo simbólico\n",
    "from sympy import *\n",
    "\n",
    "alpha, beta, x = symbols('alpha beta x')\n",
    "f = symbols('f', cls=Function)\n",
    "init_printing()\n",
    "\n",
    "from ipywidgets import *\n",
    "from IPython.display import display\n",
    "\n",
    "from __future__ import print_function\n",
    "from ipywidgets import interact, interactive, fixed\n",
    "import ipywidgets as widgets\n",
    "\n",
    "\n",
    "def cobweb(f, x, y):\n",
    "    \"\"\"\n",
    "    Dibuja un diagrama de telaraña para una función.\n",
    "    \"\"\"\n",
    "    plt.axhline(linewidth=1.0, color=\"black\")\n",
    "    plt.axvline(linewidth=1.0, color=\"black\")\n",
    "    plt.ylim((y.min(),y.max()))\n",
    "    indep = np.linspace(x.min(), x.max(), len(x))\n",
    "        \n",
    "    # grafica la funcion \n",
    "    plt.plot(indep,f(indep),'blue')\n",
    "        \n",
    "    # grafica la diagonal\n",
    "    def diag(x):\n",
    "        return x\n",
    "    plt.plot(indep, diag(indep), 'black')\n",
    "\n",
    "    # grafica la telaraña\n",
    "    y0 = f(x[0])\n",
    "    x0 = x[0]\n",
    "    for i in range(len(x)):\n",
    "        plt.hlines(y0, x0, y0,'r')\n",
    "        x0 = y0\n",
    "        y0 = f(x0)\n",
    "        plt.vlines(x0, x0, y0,'r')"
   ]
  },
  {
   "cell_type": "code",
   "execution_count": 12,
   "metadata": {
    "collapsed": false
   },
   "outputs": [
    {
     "name": "stdout",
     "output_type": "stream",
     "text": [
      "(0.0, 1.0)\n"
     ]
    },
    {
     "data": {
      "text/plain": [
       "<function __main__.plot_g>"
      ]
     },
     "execution_count": 12,
     "metadata": {},
     "output_type": "execute_result"
    },
    {
     "data": {
      "image/png": "[encoded data removed]",
      "text/plain": [
       "<matplotlib.figure.Figure at 0xa92a738c>"
      ]
     },
     "metadata": {},
     "output_type": "display_data"
    }
   ],
   "source": [
    "def g(x, alpha, beta):\n",
    "    return (alpha*x)/(1 + (beta * x))\n",
    "\n",
    "def plot_g(x, alpha, beta):\n",
    "    pprint(x)\n",
    "    y = np.linspace(x[0],x[1],300)\n",
    "    g_y = g(y, alpha, beta)\n",
    "    fig1 = plt.plot(y, g_y)\n",
    "    fig1 = plt.plot(y, y, color='red')\n",
    "\n",
    "    plt.axis('equal')\n",
    "\n",
    "interact(plot_g,\n",
    "         x=widgets.FloatRangeSlider(min=0, max=30, step=0.01, value=[0,1], continuous_update=False),\n",
    "         alpha=widgets.IntSlider(min=0,max=30,step=1,value=1, continuous_update=False),\n",
    "         beta=widgets.IntSlider(min=0,max=30,step=1,value=1, continuous_update=False))\n"
   ]
  },
  {
   "cell_type": "code",
   "execution_count": 17,
   "metadata": {
    "collapsed": false
   },
   "outputs": [],
   "source": [
    "f0 = (alpha*x)/(1+beta*x)\n",
    "f1 = simplify(f0.subs(x, f0))\n",
    "f2 = simplify(f1.subs(x, f1))\n",
    "f3 = simplify(f2.subs(x, f2))"
   ]
  },
  {
   "cell_type": "code",
   "execution_count": 32,
   "metadata": {
    "collapsed": false
   },
   "outputs": [
    {
     "data": {
      "image/png": "[encoded data removed]",
      "text/latex": [
       "$$f{\\left (x \\right )} = \\frac{\\alpha x}{\\beta x + 1}$$"
      ],
      "text/plain": [
       "         α⋅x  \n",
       "f(x) = ───────\n",
       "       β⋅x + 1"
      ]
     },
     "execution_count": 32,
     "metadata": {},
     "output_type": "execute_result"
    }
   ],
   "source": [
    "Eq(f(x),f0)"
   ]
  },
  {
   "cell_type": "code",
   "execution_count": 33,
   "metadata": {
    "collapsed": false
   },
   "outputs": [
    {
     "data": {
      "image/png": "[encoded data removed]",
      "text/latex": [
       "$$f{\\left (f{\\left (x \\right )} \\right )} = \\frac{\\alpha^{2} x}{\\alpha \\beta x + \\beta x + 1}$$"
      ],
      "text/plain": [
       "                 2       \n",
       "                α ⋅x     \n",
       "f(f(x)) = ───────────────\n",
       "          α⋅β⋅x + β⋅x + 1"
      ]
     },
     "execution_count": 33,
     "metadata": {},
     "output_type": "execute_result"
    }
   ],
   "source": [
    "Eq(f(f(x)), f1)"
   ]
  },
  {
   "cell_type": "code",
   "execution_count": 34,
   "metadata": {
    "collapsed": false
   },
   "outputs": [
    {
     "data": {
      "image/png": "[encoded data removed]",
      "text/latex": [
       "$$f{\\left (f{\\left (f{\\left (x \\right )} \\right )} \\right )} = \\frac{\\alpha^{4} x}{\\alpha^{3} \\beta x + \\alpha^{2} \\beta x + \\alpha \\beta x + \\beta x + 1}$$"
      ],
      "text/plain": [
       "                             4                \n",
       "                            α ⋅x              \n",
       "f(f(f(x))) = ─────────────────────────────────\n",
       "              3        2                      \n",
       "             α ⋅β⋅x + α ⋅β⋅x + α⋅β⋅x + β⋅x + 1"
      ]
     },
     "execution_count": 34,
     "metadata": {},
     "output_type": "execute_result"
    }
   ],
   "source": [
    "Eq(f(f(f(x))), f2)"
   ]
  },
  {
   "cell_type": "code",
   "execution_count": 35,
   "metadata": {
    "collapsed": false
   },
   "outputs": [
    {
     "data": {
      "image/png": "[encoded data removed]",
      "text/latex": [
       "$$f{\\left (f{\\left (f{\\left (f{\\left (x \\right )} \\right )} \\right )} \\right )} = \\frac{\\alpha^{8} x}{\\alpha^{7} \\beta x + \\alpha^{6} \\beta x + \\alpha^{5} \\beta x + \\alpha^{4} \\beta x + \\alpha^{3} \\beta x + \\alpha^{2} \\beta x + \\alpha \\beta x + \\beta x + 1}$$"
      ],
      "text/plain": [
       "                                                  8                           \n",
       "                                                 α ⋅x                         \n",
       "f(f(f(f(x)))) = ──────────────────────────────────────────────────────────────\n",
       "                 7        6        5        4        3        2               \n",
       "                α ⋅β⋅x + α ⋅β⋅x + α ⋅β⋅x + α ⋅β⋅x + α ⋅β⋅x + α ⋅β⋅x + α⋅β⋅x + \n",
       "\n",
       "       \n",
       "       \n",
       "───────\n",
       "       \n",
       "β⋅x + 1"
      ]
     },
     "execution_count": 35,
     "metadata": {},
     "output_type": "execute_result"
    }
   ],
   "source": [
    "Eq(f(f(f(f(x)))), f3)"
   ]
  },
  {
   "cell_type": "code",
   "execution_count": 19,
   "metadata": {
    "collapsed": false
   },
   "outputs": [
    {
     "data": {
      "image/png": "[encoded data removed]",
      "text/latex": [
       "$$\\frac{\\alpha^{8} x}{x \\left(\\alpha^{7} \\beta + \\alpha^{6} \\beta + \\alpha^{5} \\beta + \\alpha^{4} \\beta + \\alpha^{3} \\beta + \\alpha^{2} \\beta + \\alpha \\beta + \\beta\\right) + 1}$$"
      ],
      "text/plain": [
       "                            8                            \n",
       "                           α ⋅x                          \n",
       "─────────────────────────────────────────────────────────\n",
       "  ⎛ 7      6      5      4      3      2            ⎞    \n",
       "x⋅⎝α ⋅β + α ⋅β + α ⋅β + α ⋅β + α ⋅β + α ⋅β + α⋅β + β⎠ + 1"
      ]
     },
     "execution_count": 19,
     "metadata": {},
     "output_type": "execute_result"
    }
   ],
   "source": [
    "collect(f3, x)"
   ]
  },
  {
   "cell_type": "code",
   "execution_count": 7,
   "metadata": {
    "collapsed": false
   },
   "outputs": [
    {
     "data": {
      "image/png": "[encoded data removed]",
      "text/latex": [
       "$$\\left\\{0, \\frac{1}{\\beta} \\left(\\alpha - 1\\right)\\right\\} \\setminus \\left\\{- \\frac{1}{\\beta \\left(\\alpha + 1\\right)}\\right\\}$$"
      ],
      "text/plain": [
       "⎧   α - 1⎫   ⎧   -1    ⎫\n",
       "⎨0, ─────⎬ \\ ⎨─────────⎬\n",
       "⎩     β  ⎭   ⎩β⋅(α + 1)⎭"
      ]
     },
     "execution_count": 7,
     "metadata": {},
     "output_type": "execute_result"
    }
   ],
   "source": [
    "solveset(Eq(f1,x),x)"
   ]
  },
  {
   "cell_type": "code",
   "execution_count": 59,
   "metadata": {
    "collapsed": false
   },
   "outputs": [
    {
     "name": "stdout",
     "output_type": "stream",
     "text": [
      "ultimos 15 de la serie [15.0, 0.0, 15.0, 0.0, 15.0, 0.0, 15.0, 0.0, 15.0, 0.0, 15.0, 0.0, 15.0, 0.0, 15.0]\n"
     ]
    },
    {
     "data": {
      "image/png": "[encoded data removed]",
      "text/latex": [
       "$$\\left\\{0, 15\\right\\}$$"
      ],
      "text/plain": [
       "{0, 15}"
      ]
     },
     "metadata": {},
     "output_type": "display_data"
    },
    {
     "data": {
      "image/png": "[encoded data removed]",
      "text/plain": [
       "<matplotlib.figure.Figure at 0xa92ff50c>"
      ]
     },
     "metadata": {},
     "output_type": "display_data"
    }
   ],
   "source": [
    "def solve_g(a, b):\n",
    "    y = list(np.linspace(0,float(list(solveset(Eq(f1.subs(alpha, a).subs(beta, b), x), x)).pop()),2))\n",
    "\n",
    "    for t in range(30):\n",
    "        y.append(g(y[t], a, b))\n",
    "    zoom = plt.plot(y)\n",
    "\n",
    "    print(\"ultimos 15 de la serie\", y[-15:])\n",
    "    return solveset(Eq(f1.subs(alpha, a).subs(beta, b), x), x)\n",
    "\n",
    "interact(solve_g,\n",
    "         a=widgets.IntSlider(min=0,max=30,step=1,value=1, continuous_update=False, description='alpha'),\n",
    "         b=widgets.IntSlider(min=0,max=30,step=1,value=1, continuous_update=False, description='beta'))"
   ]
  }
 ],
 "metadata": {
  "kernelspec": {
   "display_name": "Python 3",
   "language": "python",
   "name": "python3"
  },
  "language_info": {
   "codemirror_mode": {
    "name": "ipython",
    "version": 3
   },
   "file_extension": ".py",
   "mimetype": "text/x-python",
   "name": "python",
   "nbconvert_exporter": "python",
   "pygments_lexer": "ipython3",
   "version": "3.4.3"
  },
  "widgets": {
   "state": {
    "5b5f11cf385f49eb931c6a6b46b2964b": {
     "views": [
      {
       "cell_index": 9
      }
     ]
    },
    "b3249abd6b1d4f74b98ad5418fca873b": {
     "views": [
      {
       "cell_index": 1
      }
     ]
    }
   },
   "version": "1.2.0"
  }
 },
 "nbformat": 4,
 "nbformat_minor": 1
}
