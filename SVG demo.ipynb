{
 "cells": [
  {
   "cell_type": "code",
   "execution_count": 6,
   "metadata": {
    "collapsed": false,
    "scrolled": true
   },
   "outputs": [
    {
     "data": {
      "image/svg+xml": [
       "<svg baseProfile=\"full\" height=\"100%\" version=\"1.1\" viewBox=\"0,0,500,500\" width=\"100%\" xmlns=\"http://www.w3.org/2000/svg\" xmlns:ev=\"http://www.w3.org/2001/xml-events\" xmlns:xlink=\"http://www.w3.org/1999/xlink\"><defs/><line stroke=\"black\" x1=\"0\" x2=\"100\" y1=\"0\" y2=\"100\"/><text x=\"50\" y=\"20\">Test</text><circle cx=\"300\" cy=\"100\" fill=\"blue\" opacity=\"0.01\" r=\"10\"/><circle cx=\"300\" cy=\"100\" fill=\"blue\" opacity=\"0.01\" r=\"11\"/><circle cx=\"300\" cy=\"100\" fill=\"blue\" opacity=\"0.01\" r=\"12\"/><circle cx=\"300\" cy=\"100\" fill=\"blue\" opacity=\"0.01\" r=\"13\"/><circle cx=\"300\" cy=\"100\" fill=\"blue\" opacity=\"0.01\" r=\"14\"/><circle cx=\"300\" cy=\"100\" fill=\"blue\" opacity=\"0.01\" r=\"15\"/><circle cx=\"300\" cy=\"100\" fill=\"blue\" opacity=\"0.01\" r=\"16\"/><circle cx=\"300\" cy=\"100\" fill=\"blue\" opacity=\"0.01\" r=\"17\"/><circle cx=\"300\" cy=\"100\" fill=\"blue\" opacity=\"0.01\" r=\"18\"/><circle cx=\"300\" cy=\"100\" fill=\"blue\" opacity=\"0.01\" r=\"19\"/><circle cx=\"300\" cy=\"100\" fill=\"blue\" opacity=\"0.01\" r=\"20\"/><circle cx=\"300\" cy=\"100\" fill=\"blue\" opacity=\"0.01\" r=\"21\"/><circle cx=\"300\" cy=\"100\" fill=\"blue\" opacity=\"0.01\" r=\"22\"/><circle cx=\"300\" cy=\"100\" fill=\"blue\" opacity=\"0.01\" r=\"23\"/><circle cx=\"300\" cy=\"100\" fill=\"blue\" opacity=\"0.01\" r=\"24\"/><circle cx=\"300\" cy=\"100\" fill=\"blue\" opacity=\"0.01\" r=\"25\"/><circle cx=\"300\" cy=\"100\" fill=\"blue\" opacity=\"0.01\" r=\"26\"/><circle cx=\"300\" cy=\"100\" fill=\"blue\" opacity=\"0.01\" r=\"27\"/><circle cx=\"300\" cy=\"100\" fill=\"blue\" opacity=\"0.01\" r=\"28\"/><circle cx=\"300\" cy=\"100\" fill=\"blue\" opacity=\"0.01\" r=\"29\"/><circle cx=\"300\" cy=\"100\" fill=\"blue\" opacity=\"0.01\" r=\"30\"/><circle cx=\"300\" cy=\"100\" fill=\"blue\" opacity=\"0.01\" r=\"31\"/><circle cx=\"300\" cy=\"100\" fill=\"blue\" opacity=\"0.01\" r=\"32\"/><circle cx=\"300\" cy=\"100\" fill=\"blue\" opacity=\"0.01\" r=\"33\"/><circle cx=\"300\" cy=\"100\" fill=\"blue\" opacity=\"0.01\" r=\"34\"/><circle cx=\"300\" cy=\"100\" fill=\"blue\" opacity=\"0.01\" r=\"35\"/><circle cx=\"300\" cy=\"100\" fill=\"blue\" opacity=\"0.01\" r=\"36\"/><circle cx=\"300\" cy=\"100\" fill=\"blue\" opacity=\"0.01\" r=\"37\"/><circle cx=\"300\" cy=\"100\" fill=\"blue\" opacity=\"0.01\" r=\"38\"/><circle cx=\"300\" cy=\"100\" fill=\"blue\" opacity=\"0.01\" r=\"39\"/><circle cx=\"300\" cy=\"100\" fill=\"blue\" opacity=\"0.01\" r=\"40\"/><circle cx=\"300\" cy=\"100\" fill=\"blue\" opacity=\"0.01\" r=\"41\"/><circle cx=\"300\" cy=\"100\" fill=\"blue\" opacity=\"0.01\" r=\"42\"/><circle cx=\"300\" cy=\"100\" fill=\"blue\" opacity=\"0.01\" r=\"43\"/><circle cx=\"300\" cy=\"100\" fill=\"blue\" opacity=\"0.01\" r=\"44\"/><circle cx=\"300\" cy=\"100\" fill=\"blue\" opacity=\"0.01\" r=\"45\"/><circle cx=\"300\" cy=\"100\" fill=\"blue\" opacity=\"0.01\" r=\"46\"/><circle cx=\"300\" cy=\"100\" fill=\"blue\" opacity=\"0.01\" r=\"47\"/><circle cx=\"300\" cy=\"100\" fill=\"blue\" opacity=\"0.01\" r=\"48\"/><circle cx=\"300\" cy=\"100\" fill=\"blue\" opacity=\"0.01\" r=\"49\"/><circle cx=\"300\" cy=\"100\" fill=\"blue\" opacity=\"0.01\" r=\"50\"/><circle cx=\"300\" cy=\"100\" fill=\"blue\" opacity=\"0.01\" r=\"51\"/><circle cx=\"300\" cy=\"100\" fill=\"blue\" opacity=\"0.01\" r=\"52\"/><circle cx=\"300\" cy=\"100\" fill=\"blue\" opacity=\"0.01\" r=\"53\"/><circle cx=\"300\" cy=\"100\" fill=\"blue\" opacity=\"0.01\" r=\"54\"/><circle cx=\"300\" cy=\"100\" fill=\"blue\" opacity=\"0.01\" r=\"55\"/><circle cx=\"300\" cy=\"100\" fill=\"blue\" opacity=\"0.01\" r=\"56\"/><circle cx=\"300\" cy=\"100\" fill=\"blue\" opacity=\"0.01\" r=\"57\"/><circle cx=\"300\" cy=\"100\" fill=\"blue\" opacity=\"0.01\" r=\"58\"/><circle cx=\"300\" cy=\"100\" fill=\"blue\" opacity=\"0.01\" r=\"59\"/><circle cx=\"300\" cy=\"100\" fill=\"blue\" opacity=\"0.01\" r=\"60\"/><circle cx=\"300\" cy=\"100\" fill=\"blue\" opacity=\"0.01\" r=\"61\"/><circle cx=\"300\" cy=\"100\" fill=\"blue\" opacity=\"0.01\" r=\"62\"/><circle cx=\"300\" cy=\"100\" fill=\"blue\" opacity=\"0.01\" r=\"63\"/><circle cx=\"300\" cy=\"100\" fill=\"blue\" opacity=\"0.01\" r=\"64\"/><circle cx=\"300\" cy=\"100\" fill=\"blue\" opacity=\"0.01\" r=\"65\"/><circle cx=\"300\" cy=\"100\" fill=\"blue\" opacity=\"0.01\" r=\"66\"/><circle cx=\"300\" cy=\"100\" fill=\"blue\" opacity=\"0.01\" r=\"67\"/><circle cx=\"300\" cy=\"100\" fill=\"blue\" opacity=\"0.01\" r=\"68\"/><circle cx=\"300\" cy=\"100\" fill=\"blue\" opacity=\"0.01\" r=\"69\"/><circle cx=\"300\" cy=\"100\" fill=\"blue\" opacity=\"0.01\" r=\"70\"/><circle cx=\"300\" cy=\"100\" fill=\"blue\" opacity=\"0.01\" r=\"71\"/><circle cx=\"300\" cy=\"100\" fill=\"blue\" opacity=\"0.01\" r=\"72\"/><circle cx=\"300\" cy=\"100\" fill=\"blue\" opacity=\"0.01\" r=\"73\"/><circle cx=\"300\" cy=\"100\" fill=\"blue\" opacity=\"0.01\" r=\"74\"/><circle cx=\"300\" cy=\"100\" fill=\"blue\" opacity=\"0.01\" r=\"75\"/><circle cx=\"300\" cy=\"100\" fill=\"blue\" opacity=\"0.01\" r=\"76\"/><circle cx=\"300\" cy=\"100\" fill=\"blue\" opacity=\"0.01\" r=\"77\"/><circle cx=\"300\" cy=\"100\" fill=\"blue\" opacity=\"0.01\" r=\"78\"/><circle cx=\"300\" cy=\"100\" fill=\"blue\" opacity=\"0.01\" r=\"79\"/><circle cx=\"300\" cy=\"100\" fill=\"blue\" opacity=\"0.01\" r=\"80\"/><circle cx=\"300\" cy=\"100\" fill=\"blue\" opacity=\"0.01\" r=\"81\"/><circle cx=\"300\" cy=\"100\" fill=\"blue\" opacity=\"0.01\" r=\"82\"/><circle cx=\"300\" cy=\"100\" fill=\"blue\" opacity=\"0.01\" r=\"83\"/><circle cx=\"300\" cy=\"100\" fill=\"blue\" opacity=\"0.01\" r=\"84\"/><circle cx=\"300\" cy=\"100\" fill=\"blue\" opacity=\"0.01\" r=\"85\"/><circle cx=\"300\" cy=\"100\" fill=\"blue\" opacity=\"0.01\" r=\"86\"/><circle cx=\"300\" cy=\"100\" fill=\"blue\" opacity=\"0.01\" r=\"87\"/><circle cx=\"300\" cy=\"100\" fill=\"blue\" opacity=\"0.01\" r=\"88\"/><circle cx=\"300\" cy=\"100\" fill=\"blue\" opacity=\"0.01\" r=\"89\"/><circle cx=\"300\" cy=\"100\" fill=\"blue\" opacity=\"0.01\" r=\"90\"/><circle cx=\"300\" cy=\"100\" fill=\"blue\" opacity=\"0.01\" r=\"91\"/><circle cx=\"300\" cy=\"100\" fill=\"blue\" opacity=\"0.01\" r=\"92\"/><circle cx=\"300\" cy=\"100\" fill=\"blue\" opacity=\"0.01\" r=\"93\"/><circle cx=\"300\" cy=\"100\" fill=\"blue\" opacity=\"0.01\" r=\"94\"/><circle cx=\"300\" cy=\"100\" fill=\"blue\" opacity=\"0.01\" r=\"95\"/><circle cx=\"300\" cy=\"100\" fill=\"blue\" opacity=\"0.01\" r=\"96\"/><circle cx=\"300\" cy=\"100\" fill=\"blue\" opacity=\"0.01\" r=\"97\"/><circle cx=\"300\" cy=\"100\" fill=\"blue\" opacity=\"0.01\" r=\"98\"/><circle cx=\"300\" cy=\"100\" fill=\"blue\" opacity=\"0.01\" r=\"99\"/><line stroke=\"black\" x1=\"0\" x2=\"100\" y1=\"0\" y2=\"11\"/><line stroke=\"black\" x1=\"0\" x2=\"100\" y1=\"0\" y2=\"13\"/><line stroke=\"black\" x1=\"0\" x2=\"100\" y1=\"0\" y2=\"15\"/><line stroke=\"black\" x1=\"0\" x2=\"100\" y1=\"0\" y2=\"17\"/><line stroke=\"black\" x1=\"0\" x2=\"100\" y1=\"0\" y2=\"19\"/><line stroke=\"black\" x1=\"0\" x2=\"100\" y1=\"0\" y2=\"21\"/><line stroke=\"black\" x1=\"0\" x2=\"100\" y1=\"0\" y2=\"23\"/><line stroke=\"black\" x1=\"0\" x2=\"100\" y1=\"0\" y2=\"25\"/><line stroke=\"black\" x1=\"0\" x2=\"100\" y1=\"0\" y2=\"27\"/><line stroke=\"black\" x1=\"0\" x2=\"100\" y1=\"0\" y2=\"29\"/><line stroke=\"black\" x1=\"0\" x2=\"100\" y1=\"0\" y2=\"31\"/><line stroke=\"black\" x1=\"0\" x2=\"100\" y1=\"0\" y2=\"33\"/><line stroke=\"black\" x1=\"0\" x2=\"100\" y1=\"0\" y2=\"35\"/><line stroke=\"black\" x1=\"0\" x2=\"100\" y1=\"0\" y2=\"37\"/><line stroke=\"black\" x1=\"0\" x2=\"100\" y1=\"0\" y2=\"39\"/><line stroke=\"black\" x1=\"0\" x2=\"100\" y1=\"0\" y2=\"41\"/><line stroke=\"black\" x1=\"0\" x2=\"100\" y1=\"0\" y2=\"43\"/><line stroke=\"black\" x1=\"0\" x2=\"100\" y1=\"0\" y2=\"45\"/><line stroke=\"black\" x1=\"0\" x2=\"100\" y1=\"0\" y2=\"47\"/><line stroke=\"black\" x1=\"0\" x2=\"100\" y1=\"0\" y2=\"49\"/><line stroke=\"black\" x1=\"0\" x2=\"100\" y1=\"0\" y2=\"51\"/><line stroke=\"black\" x1=\"0\" x2=\"100\" y1=\"0\" y2=\"53\"/><line stroke=\"black\" x1=\"0\" x2=\"100\" y1=\"0\" y2=\"55\"/><line stroke=\"black\" x1=\"0\" x2=\"100\" y1=\"0\" y2=\"57\"/><line stroke=\"black\" x1=\"0\" x2=\"100\" y1=\"0\" y2=\"59\"/><line stroke=\"black\" x1=\"0\" x2=\"100\" y1=\"0\" y2=\"61\"/><line stroke=\"black\" x1=\"0\" x2=\"100\" y1=\"0\" y2=\"63\"/><line stroke=\"black\" x1=\"0\" x2=\"100\" y1=\"0\" y2=\"65\"/><line stroke=\"black\" x1=\"0\" x2=\"100\" y1=\"0\" y2=\"67\"/><line stroke=\"black\" x1=\"0\" x2=\"100\" y1=\"0\" y2=\"69\"/><line stroke=\"black\" x1=\"0\" x2=\"100\" y1=\"0\" y2=\"71\"/><line stroke=\"black\" x1=\"0\" x2=\"100\" y1=\"0\" y2=\"73\"/><line stroke=\"black\" x1=\"0\" x2=\"100\" y1=\"0\" y2=\"75\"/><line stroke=\"black\" x1=\"0\" x2=\"100\" y1=\"0\" y2=\"77\"/><line stroke=\"black\" x1=\"0\" x2=\"100\" y1=\"0\" y2=\"79\"/><line stroke=\"black\" x1=\"0\" x2=\"100\" y1=\"0\" y2=\"81\"/><line stroke=\"black\" x1=\"0\" x2=\"100\" y1=\"0\" y2=\"83\"/><line stroke=\"black\" x1=\"0\" x2=\"100\" y1=\"0\" y2=\"85\"/><line stroke=\"black\" x1=\"0\" x2=\"100\" y1=\"0\" y2=\"87\"/><line stroke=\"black\" x1=\"0\" x2=\"100\" y1=\"0\" y2=\"89\"/><line stroke=\"black\" x1=\"0\" x2=\"100\" y1=\"0\" y2=\"91\"/><line stroke=\"black\" x1=\"0\" x2=\"100\" y1=\"0\" y2=\"93\"/><line stroke=\"black\" x1=\"0\" x2=\"100\" y1=\"0\" y2=\"95\"/><line stroke=\"black\" x1=\"0\" x2=\"100\" y1=\"0\" y2=\"97\"/><line stroke=\"black\" x1=\"0\" x2=\"100\" y1=\"0\" y2=\"99\"/></svg>"
      ],
      "text/plain": [
       "<IPython.core.display.SVG object>"
      ]
     },
     "execution_count": 6,
     "metadata": {},
     "output_type": "execute_result"
    }
   ],
   "source": [
    "import svgwrite\n",
    "from IPython.display import SVG\n",
    "\n",
    "\n",
    "dwg = svgwrite.Drawing()\n",
    "dwg.viewbox(0,0,500,500)\n",
    "dwg.add(dwg.line((0, 0), (100, 100), stroke='black'))\n",
    "dwg.add(dwg.text('Test', insert=(50, 20)))\n",
    "\n",
    "for r in range(10,100,1):\n",
    "    dwg.add(dwg.circle(center=(300,100), r=r, fill='blue', opacity='0.01'))\n",
    "\n",
    "for n in range(11,100,2):\n",
    "    dwg.add(dwg.line((0, 0), (100, n), stroke='black'))\n",
    "\n",
    "SVG(dwg.tostring())\n"
   ]
  }
 ],
 "metadata": {
  "kernelspec": {
   "display_name": "Python 3",
   "language": "python",
   "name": "python3"
  },
  "language_info": {
   "codemirror_mode": {
    "name": "ipython",
    "version": 3
   },
   "file_extension": ".py",
   "mimetype": "text/x-python",
   "name": "python",
   "nbconvert_exporter": "python",
   "pygments_lexer": "ipython3",
   "version": "3.4.3"
  }
 },
 "nbformat": 4,
 "nbformat_minor": 1
}
