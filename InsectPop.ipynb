{
 "cells": [
  {
   "cell_type": "code",
   "execution_count": 7,
   "metadata": {
    "collapsed": true
   },
   "outputs": [],
   "source": [
    "import numpy as np\n",
    "\n",
    "# importamos bibliotecas para plotear\n",
    "import matplotlib\n",
    "import matplotlib.pyplot as plt\n",
    "\n",
    "# para desplegar los plots en el notebook\n",
    "%matplotlib inline\n",
    "\n",
    "# para cómputo simbólico\n",
    "from sympy import *\n",
    "\n",
    "# configuramos los símbolos alfa, beta, x y f para su uso en sympy\n",
    "alpha, beta, x = symbols('alpha beta x')\n",
    "g = symbols('g', cls=Function)\n",
    "init_printing()\n",
    "\n",
    "# importamos slider para experimentos interactivos\n",
    "from __future__ import print_function\n",
    "from ipywidgets import interact, interactive, fixed\n",
    "import ipywidgets as widgets\n",
    "\n",
    "\n",
    "def cobweb(f, x, y):\n",
    "    \"\"\"\n",
    "    Dibuja un diagrama de telaraña para una función.\n",
    "    \"\"\"\n",
    "    plt.axhline(linewidth=1.0, color=\"black\")\n",
    "    plt.axvline(linewidth=1.0, color=\"black\")\n",
    "    plt.ylim((y.min(),y.max()))\n",
    "    indep = np.linspace(x.min(), x.max(), len(x))\n",
    "        \n",
    "    # grafica la funcion \n",
    "    plt.plot(indep,f(indep),'blue')\n",
    "        \n",
    "    # grafica la diagonal\n",
    "    plt.plot(indep, indep, 'black')\n",
    "\n",
    "    # grafica la telaraña\n",
    "    y0 = f(x[0])\n",
    "    x0 = x[0]\n",
    "    for i in range(len(x)):\n",
    "        plt.hlines(y0, x0, y0,'r')\n",
    "        x0 = y0\n",
    "        y0 = f(x0)\n",
    "        plt.vlines(x0, x0, y0,'r')"
   ]
  },
  {
   "cell_type": "markdown",
   "metadata": {},
   "source": [
    "Se propone la siguiente ecuación como modelo de densidad de poblaciones de insectos en años sucesivos.\n",
    "\n",
    "$$x_{t+1}=\\alpha x_{t}exp(-\\beta x_{t}^3)$$\n",
    "\n",
    "Siendo $\\alpha$ y $\\beta$ números positivos y $x_{t}\\ge0$."
   ]
  },
  {
   "cell_type": "code",
   "execution_count": 2,
   "metadata": {
    "collapsed": true
   },
   "outputs": [],
   "source": [
    "def f(x, alpha, beta):\n",
    "    return alpha*x*np.exp(-beta*x**3)"
   ]
  },
  {
   "cell_type": "code",
   "execution_count": 6,
   "metadata": {
    "collapsed": false
   },
   "outputs": [
    {
     "data": {
      "text/plain": [
       "<function __main__.plot_f>"
      ]
     },
     "execution_count": 6,
     "metadata": {},
     "output_type": "execute_result"
    },
    {
     "data": {
      "image/png": "[encoded data removed]",
      "text/plain": [
       "<matplotlib.figure.Figure at 0x7f66fbd676a0>"
      ]
     },
     "metadata": {},
     "output_type": "display_data"
    }
   ],
   "source": [
    "\n",
    "def plot_f(x, alpha, beta):\n",
    "    y = np.linspace(x[0],x[1],300)\n",
    "    f_y = f(y, alpha, beta)\n",
    "    fig1 = plt.plot(y, f_y)\n",
    "    fig1 = plt.plot(y, y, color='red')\n",
    "    plt.axis('equal')\n",
    "\n",
    "interact(plot_f,\n",
    "         x=widgets.FloatRangeSlider(min=0, max=2, step=0.01,\n",
    "                                    value=[0,1], continuous_update=False),\n",
    "         alpha=widgets.IntSlider(min=0,max=30, step=1, \n",
    "                                 value=2,\n",
    "                                 continuous_update=False),\n",
    "         beta=widgets.IntSlider(min=0, max=30, step=1,\n",
    "                                value=1, continuous_update=False))"
   ]
  },
  {
   "cell_type": "code",
   "execution_count": 4,
   "metadata": {
    "collapsed": false,
    "scrolled": false
   },
   "outputs": [
    {
     "data": {
      "text/plain": [
       "<function __main__.plot_cobg>"
      ]
     },
     "execution_count": 4,
     "metadata": {},
     "output_type": "execute_result"
    },
    {
     "data": {
      "image/png": "[encoded data removed]",
      "text/plain": [
       "<matplotlib.figure.Figure at 0x7f66fc3e6080>"
      ]
     },
     "metadata": {},
     "output_type": "display_data"
    }
   ],
   "source": [
    "def plot_cobg(x, alpha, beta):  \n",
    "    y = np.linspace(x[0],x[1],300)\n",
    "    g_y = f(y, alpha, beta)\n",
    "    cobweb(lambda x: f(x, alpha, beta), y, g_y)\n",
    "\n",
    "# configura gráfica interactiva\n",
    "interact(plot_cobg,\n",
    "         x=widgets.FloatRangeSlider(min=0.01, max=3, step=0.01,\n",
    "                                    value=[0.02, 3],\n",
    "                                    continuous_update=False),\n",
    "         alpha=widgets.FloatSlider(min=0.001, max=30,step=0.01,\n",
    "                                   value=np.e, continuous_update=False),\n",
    "         beta=widgets.FloatSlider(min=0.001, max=30,step=0.01,\n",
    "                                  value=0.33, continuous_update=False))"
   ]
  },
  {
   "cell_type": "code",
   "execution_count": 30,
   "metadata": {
    "collapsed": false
   },
   "outputs": [
    {
     "data": {
      "image/png": "[encoded data removed]",
      "text/latex": [
       "$$g{\\left (x \\right )} = 2.72 x e^{- 0.33 x^{3}}$$"
      ],
      "text/plain": [
       "                      3\n",
       "               -0.33⋅x \n",
       "g(x) = 2.72⋅x⋅ℯ        "
      ]
     },
     "execution_count": 30,
     "metadata": {},
     "output_type": "execute_result"
    }
   ],
   "source": [
    "f0 = 2.72*x*exp(-0.33*x**3)\n",
    "Eq(g(x),f0)"
   ]
  },
  {
   "cell_type": "code",
   "execution_count": 31,
   "metadata": {
    "collapsed": false
   },
   "outputs": [
    {
     "data": {
      "image/png": "[encoded data removed]",
      "text/latex": [
       "$$g{\\left (g{\\left (x \\right )} \\right )} = 7.3984 x e^{- x^{3} \\left(0.33 + 6.64080384 e^{- 0.99 x^{3}}\\right)}$$"
      ],
      "text/plain": [
       "                        ⎛                          3⎞\n",
       "                      3 ⎜                   -0.99⋅x ⎟\n",
       "                    -x ⋅⎝0.33 + 6.64080384⋅ℯ        ⎠\n",
       "g(g(x)) = 7.3984⋅x⋅ℯ                                 "
      ]
     },
     "execution_count": 31,
     "metadata": {},
     "output_type": "execute_result"
    }
   ],
   "source": [
    "f1 = simplify(f0.subs(x, f0))\n",
    "Eq(g(g(x)),f1)"
   ]
  },
  {
   "cell_type": "code",
   "execution_count": 32,
   "metadata": {
    "collapsed": false
   },
   "outputs": [
    {
     "data": {
      "image/png": "[encoded data removed]",
      "text/latex": [
       "$$\\left\\{0\\right\\} \\cup \\left\\{x\\; |\\; x \\in \\mathbb{C} \\wedge e^{- x^{3} \\left(0.33 + 6.6 e^{- 0.99 x^{3}}\\right)} = 0 \\right\\} \\cup \\left\\{x\\; |\\; x \\in \\mathbb{C} \\wedge e^{x^{3} \\left(0.33 + 6.6 e^{- 0.99 x^{3}}\\right)} - 7.3984 = 0 \\right\\}$$"
      ],
      "text/plain": [
       "      ⎧                 ⎛                   3⎞    ⎫   ⎧                ⎛      \n",
       "      ⎪               3 ⎜            -0.99⋅x ⎟    ⎪   ⎪              3 ⎜      \n",
       "      ⎨             -x ⋅⎝0.33 + 6.6⋅ℯ        ⎠    ⎬   ⎨             x ⋅⎝0.33 +\n",
       "{0} ∪ ⎪x | x ∊ ℂ ∧ ℯ                           = 0⎪ ∪ ⎪x | x ∊ ℂ ∧ ℯ          \n",
       "      ⎩                                           ⎭   ⎩                       \n",
       "\n",
       "             3⎞             ⎫\n",
       "      -0.99⋅x ⎟             ⎪\n",
       " 6.6⋅ℯ        ⎠             ⎬\n",
       "                - 7.3984 = 0⎪\n",
       "                            ⎭"
      ]
     },
     "execution_count": 32,
     "metadata": {},
     "output_type": "execute_result"
    }
   ],
   "source": [
    "f1_ = 7.3984*x*exp(-x**3*(0.33+6.6*exp(-0.99*x**3)))\n",
    "solveset(Eq(f1_,x),x)"
   ]
  },
  {
   "cell_type": "code",
   "execution_count": 26,
   "metadata": {
    "collapsed": false,
    "deletable": true,
    "editable": true
   },
   "outputs": [
    {
     "data": {
      "text/plain": [
       "<function __main__.plot_f>"
      ]
     },
     "execution_count": 26,
     "metadata": {},
     "output_type": "execute_result"
    },
    {
     "data": {
      "image/png": "[encoded data removed]",
      "text/plain": [
       "<matplotlib.figure.Figure at 0x7f66fbc9b080>"
      ]
     },
     "metadata": {},
     "output_type": "display_data"
    }
   ],
   "source": [
    "\n",
    "def plot_f(x, alpha, beta):\n",
    "    y = np.linspace(x[0],x[1],300)\n",
    "    f_y = f(y, alpha, beta)\n",
    "    fig1 = plt.plot(y, f_y)\n",
    "    fig1 = plt.plot(y, y, color='red')\n",
    "    plt.axis('equal')\n",
    "\n",
    "interact(plot_f,\n",
    "         x=widgets.FloatRangeSlider(min=0, max=200, step=0.01,\n",
    "                                    value=[137,170], continuous_update=False),\n",
    "         alpha=widgets.IntSlider(min=0,max=30, step=1,\n",
    "                                 value=30,\n",
    "                                 continuous_update=False),\n",
    "         beta=widgets.IntSlider(min=0, max=30, step=1,\n",
    "                                value=1, \n",
    "                                continuous_update=False))"
   ]
  }
 ],
 "metadata": {
  "kernelspec": {
   "display_name": "Python 3",
   "language": "python",
   "name": "python3"
  },
  "language_info": {
   "codemirror_mode": {
    "name": "ipython",
    "version": 3
   },
   "file_extension": ".py",
   "mimetype": "text/x-python",
   "name": "python",
   "nbconvert_exporter": "python",
   "pygments_lexer": "ipython3",
   "version": "3.4.2"
  },
  "widgets": {
   "state": {
    "2ab475b8d9964c1492f6b63f7cdb02d0": {
     "views": [
      {
       "cell_index": 4
      }
     ]
    },
    "a504029e1a794981a0616960337d4a33": {
     "views": [
      {
       "cell_index": 8
      }
     ]
    },
    "f52af0b758104bb4aaa0064ca999510a": {
     "views": [
      {
       "cell_index": 3
      }
     ]
    }
   },
   "version": "1.2.0"
  }
 },
 "nbformat": 4,
 "nbformat_minor": 2
}
