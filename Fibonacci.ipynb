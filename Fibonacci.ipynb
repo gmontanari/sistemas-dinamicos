{
 "cells": [
  {
   "cell_type": "markdown",
   "metadata": {},
   "source": [
    "# Serie de Fibonacci\n",
    "\n",
    "La serie de Fibonacci se usa para modelar crecimiento de poblaciones de bichos. Por ejemplo: conejitos. Se empieza con un granero vacío, en $t_{0}$, en $t_{1}$ una parejita de conejos se metió quién sabe cómo y usan ese tiempo para instalarse, en $t_{1}$ sigue la misma parejita, pero una nueva parejita ya se está gestando. En $t_{3}$ nace una segunda pareja, ahora son dos: la nueva usa ese tiempo para instalarse y la primera otra vez está gestando una nueva.\n",
    "\n",
    "Uno puede imaginarse el área que ocupa la población de conejitos viendo esta figura:\n",
    "\n",
    "<img src=\"https://upload.wikimedia.org/wikipedia/commons/thumb/d/db/34%2A21-FibonacciBlocks.png/300px-34%2A21-FibonacciBlocks.png\">\n",
    "\n",
    "También puede usarse la serie de Fibonacci para aproximar la proporción áurea:\n",
    "\n",
    "<img src=\"https://upload.wikimedia.org/wikipedia/commons/thumb/9/93/Fibonacci_spiral_34.svg/320px-Fibonacci_spiral_34.svg.png\">\n",
    "\n",
    "Más información en el artículo [\"Sucesión de Fibonacci\" en la Wikipedia](https://es.wikipedia.org/wiki/Sucesi%C3%B3n_de_Fibonacci).\n",
    "\n",
    "La ecuación de recurrencia de segundo orden es así:\n",
    "\n",
    "\\begin{equation}\n",
    "F_{k+2}=F_{k+1}+F_{k}\n",
    "\\label{eq1}\n",
    "\\tag{eq1}\n",
    "\\end{equation}\n",
    "\n",
    "Con valores iniciales $F_{0}=1, F_{1}=1$ la secuencia es:\n",
    "\n",
    "$0,1,1,2,3,5,8,13,...$\n",
    "\n",
    "\n",
    "\n",
    "Hay dos formas de obtener el k-ésimo valor de esta serie. Usando la ecuación de recurrencia \\ref{eq1} o usando esta fórmula cerrada:\n",
    "\n",
    "$F_{k}=\\frac{1}{\\sqrt{5}}\\left[\\left(\\frac{1+\\sqrt{5}}{2}\\right)^{k}-\\left(\\frac{1-\\sqrt{5}}{2}\\right)^{k}\\right]$\n"
   ]
  },
  {
   "cell_type": "markdown",
   "metadata": {},
   "source": [
    "## En pos de la \"fórmula cerrada\"\n",
    "\n"
   ]
  },
  {
   "cell_type": "code",
   "execution_count": 1,
   "metadata": {
    "collapsed": true
   },
   "outputs": [],
   "source": [
    "# importamos bibliotecas cómputo de matrices\n",
    "import numpy as np\n",
    "\n",
    "# importamos bibliotecas para plotear\n",
    "import matplotlib\n",
    "import matplotlib.pyplot as plt\n",
    "\n",
    "# para desplegar los plots en el notebook\n",
    "%matplotlib inline"
   ]
  }
 ],
 "metadata": {
  "kernelspec": {
   "display_name": "Python 2",
   "language": "python",
   "name": "python2"
  },
  "language_info": {
   "codemirror_mode": {
    "name": "ipython",
    "version": 2
   },
   "file_extension": ".py",
   "mimetype": "text/x-python",
   "name": "python",
   "nbconvert_exporter": "python",
   "pygments_lexer": "ipython2",
   "version": "2.7.9"
  }
 },
 "nbformat": 4,
 "nbformat_minor": 1
}
