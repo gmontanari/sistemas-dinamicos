{
 "cells": [
  {
   "cell_type": "markdown",
   "metadata": {},
   "source": [
    "# Serie de Fibonacci\n",
    "\n",
    "La serie de Fibonacci se usa para modelar crecimiento de poblaciones de bichos. Por ejemplo: conejitos. Se empieza con un granero vacío, en $t_{0}$, en $t_{1}$ una parejita de conejos se metió quién sabe cómo y usan ese tiempo para instalarse, en $t_{1}$ sigue la misma parejita, pero una nueva parejita ya se está gestando. En $t_{3}$ nace una segunda pareja, ahora son dos: la nueva usa ese tiempo para instalarse y la primera otra vez está gestando una nueva.\n",
    "\n",
    "Uno puede imaginarse el área que ocupa la población de conejitos viendo esta figura:\n",
    "\n",
    "<img src=\"https://upload.wikimedia.org/wikipedia/commons/thumb/d/db/34%2A21-FibonacciBlocks.png/300px-34%2A21-FibonacciBlocks.png\">\n",
    "\n",
    "También puede usarse la serie de Fibonacci para aproximar la proporción áurea:\n",
    "\n",
    "<img src=\"https://upload.wikimedia.org/wikipedia/commons/thumb/9/93/Fibonacci_spiral_34.svg/320px-Fibonacci_spiral_34.svg.png\">\n",
    "\n",
    "Más información en el artículo [\"Sucesión de Fibonacci\" en la Wikipedia](https://es.wikipedia.org/wiki/Sucesi%C3%B3n_de_Fibonacci).\n",
    "\n",
    "La ecuación de recurrencia de segundo orden es así:\n",
    "\n",
    "$F_{k+2}=F_{k+1}+F_{k}$\n",
    "<a name=\"eq1\">.......eq1</a>\n",
    "\n",
    "Con valores iniciales $F_{0}=1, F_{1}=1$ la secuencia es:\n",
    "\n",
    "$0,1,1,2,3,5,8,13,...$\n",
    "\n",
    "\n",
    "\n",
    "Hay dos formas de obtener el k-ésimo valor de esta serie. Usando la ecuación de recurrencia <a href=\"#eq1\">eq1</a> o usando esta fórmula cerrada:\n",
    "\n",
    "$F_{k}=\\frac{1}{\\sqrt{5}}\\left[\\left(\\frac{1+\\sqrt{5}}{2}\\right)^{k}-\\left(\\frac{1-\\sqrt{5}}{2}\\right)^{k}\\right]$<a name=\"eq2\">.......eq2</a>"
   ]
  },
  {
   "cell_type": "markdown",
   "metadata": {},
   "source": [
    "## Teorema\n",
    "\n",
    "Sea $A$ una matriz cuadrada de dimensión n. Si $A$ tiene n valores propios distintos\n",
    "\n",
    "$\\lambda_{1},\\lambda_{2},...,\\lambda_{n},$\n",
    "\n",
    "con vectores propios correspondientes \n",
    "\n",
    "$v_{1},v_{2},...,v_{n},$\n",
    "\n",
    "entonces $A$ es diagonalizable, o sea existen las matrices $P$ y $D$ de dimensión n tales que $D$ es una matriz diagonal y\n",
    "\n",
    "$P^{-1}AP=D$\n",
    "\n",
    "$D=\\left[\\begin{array}{cccc}\n",
    " \\lambda_{1}  &  0  &  \\cdots\\  &  0\\\\\n",
    "0  &  \\lambda_{2}  &  \\cdots\\  &  0\\\\\n",
    "\\vdots\\  &  \\vdots\\  &  \\ddots\\  &  \\vdots\\\\\n",
    "0  &  0  &  0  &  \\lambda_{n} \n",
    "\\end{array}\\right]$\n",
    "\n",
    "$P$ es la matriz cuyas columnas son los vectores propios.\n",
    "\n",
    "$P=\\left[v_{1}|v_{2}|...|v_{n}\\right]$\n",
    "\n",
    "\n",
    "Se generan los núneros de la sucesión de Fibonacci en las coordenadas de los vectores en $R2$ a partir de la condición inicial\n",
    "\n",
    "$u_{0}=\\left[\\begin{array}{c}\n",
    "F_{1}\\\\\n",
    "F_{0}\n",
    "\\end{array}\\right]=\\left[\\begin{array}{c}\n",
    "1\\\\\n",
    "0\n",
    "\\end{array}\\right]$\n",
    "\n",
    "Sea\n",
    "\n",
    "$A=\\left[\\begin{array}{cc}\n",
    "1 & 1\\\\\n",
    "1 & 0\n",
    "\\end{array}\\right]$\n",
    "<a name=\"eq3\">.......eq3</a>\n",
    "\n",
    "entonces, si\n",
    "\n",
    "$u_{k}=A\\mathbf{u}_{k-1}$\n",
    "<a name=\"eq4\">.......eq4</a>\n",
    "\n",
    "para $k=1,2,3...$\n",
    "\n",
    "$u_{k}=\\left[\\begin{array}{c}\n",
    "F_{k+1}\\\\\n",
    "F_{k}\n",
    "\\end{array}\\right]$\n",
    "\n",
    "$u_{k}=A^{k}\\mathbf{u}_{0}$\n",
    "<a name=\"eq5\">.......eq5</a>"
   ]
  },
  {
   "cell_type": "markdown",
   "metadata": {},
   "source": [
    "----------\n",
    "Se usa la ecuación <a href=\"#eq4\">eq4</a> para generar algunos $u$.\n",
    "\n",
    "$u_{0}=\\left[\\begin{array}{c}\n",
    "F_{1}\\\\\n",
    "F_{0}\n",
    "\\end{array}\\right]=\\left[\\begin{array}{c}\n",
    "1\\\\\n",
    "0\n",
    "\\end{array}\\right]$\n",
    "\n",
    "$u_{1}=\\left[\\begin{array}{cc}\n",
    "1 & 1\\\\\n",
    "1 & 0\n",
    "\\end{array}\\right]\n",
    "\\left[\\begin{array}{c}\n",
    "1\\\\\n",
    "0\n",
    "\\end{array}\\right]=\\left[\\begin{array}{c}\n",
    "1\\\\\n",
    "1\n",
    "\\end{array}\\right]$\n",
    "\n",
    "$u_{2}=\\left[\\begin{array}{cc}\n",
    "1 & 1\\\\\n",
    "1 & 0\n",
    "\\end{array}\\right]\n",
    "\\left[\\begin{array}{c}\n",
    "1\\\\\n",
    "1\n",
    "\\end{array}\\right]=\\left[\\begin{array}{c}\n",
    "2\\\\\n",
    "1\n",
    "\\end{array}\\right]$\n",
    "\n",
    "\n",
    "$u_{3}=\\left[\\begin{array}{cc}\n",
    "1 & 1\\\\\n",
    "1 & 0\n",
    "\\end{array}\\right]\n",
    "\\left[\\begin{array}{c}\n",
    "2\\\\\n",
    "1\n",
    "\\end{array}\\right]=\\left[\\begin{array}{c}\n",
    "3\\\\\n",
    "2\n",
    "\\end{array}\\right]$\n",
    "\n",
    "\n",
    "$u_{4}=\\left[\\begin{array}{cc}\n",
    "1 & 1\\\\\n",
    "1 & 0\n",
    "\\end{array}\\right]\n",
    "\\left[\\begin{array}{c}\n",
    "3\\\\\n",
    "2\n",
    "\\end{array}\\right]=\\left[\\begin{array}{c}\n",
    "5\\\\\n",
    "3\n",
    "\\end{array}\\right]$\n",
    "\n",
    "\n",
    "$u_{5}=\\left[\\begin{array}{cc}\n",
    "1 & 1\\\\\n",
    "1 & 0\n",
    "\\end{array}\\right]\n",
    "\\left[\\begin{array}{c}\n",
    "5\\\\\n",
    "3\n",
    "\\end{array}\\right]=\\left[\\begin{array}{c}\n",
    "8\\\\\n",
    "5\n",
    "\\end{array}\\right]$\n",
    "\n",
    "\n",
    "$u_{6}=\\left[\\begin{array}{cc}\n",
    "1 & 1\\\\\n",
    "1 & 0\n",
    "\\end{array}\\right]\n",
    "\\left[\\begin{array}{c}\n",
    "8\\\\\n",
    "5\n",
    "\\end{array}\\right]=\\left[\\begin{array}{c}\n",
    "13\\\\\n",
    "8\n",
    "\\end{array}\\right]$\n",
    "\n",
    "\n",
    "A continuación pongamos a prueba la <a href=\"#eq5\">eq5</a>."
   ]
  },
  {
   "cell_type": "code",
   "execution_count": 1,
   "metadata": {
    "collapsed": false
   },
   "outputs": [
    {
     "data": {
      "text/plain": [
       "matrix([[3, 2],\n",
       "        [2, 1]])"
      ]
     },
     "execution_count": 1,
     "metadata": {},
     "output_type": "execute_result"
    }
   ],
   "source": [
    "# importamos bibliotecas cómputo de matrices\n",
    "import numpy as np\n",
    "\n",
    "A = np.matrix([[1, 1],\n",
    "               [1, 0]])\n",
    "\n",
    "# para k=3 A se multiplica por sí misma tres veces:\n",
    "A*A*A"
   ]
  },
  {
   "cell_type": "code",
   "execution_count": 2,
   "metadata": {
    "collapsed": false
   },
   "outputs": [
    {
     "data": {
      "text/plain": [
       "matrix([[3, 2]])"
      ]
     },
     "execution_count": 2,
     "metadata": {},
     "output_type": "execute_result"
    }
   ],
   "source": [
    "u0 = [1,\n",
    "      0]\n",
    "\n",
    "# u3\n",
    "np.dot(A*A*A,\n",
    "       u0)"
   ]
  },
  {
   "cell_type": "markdown",
   "metadata": {},
   "source": [
    "## Polinomio característico\n",
    "\n",
    "Como $\\lambda$ es un valor propio de $A$\n",
    "\n",
    "$(\\lambda I-A)\\overrightarrow{X}=\\overrightarrow{0}$\n",
    "\n",
    "un eigenvector que sea su solución depende de que\n",
    "\n",
    "$\\det(\\lambda I-A)=\\det\\left(\\left[\\begin{array}{cc}\n",
    "\\lambda & 0\\\\\n",
    "0 & \\lambda\n",
    "\\end{array}\\right]-\\left[\\begin{array}{cc}\n",
    "1 & 1\\\\\n",
    "1 & 0\n",
    "\\end{array}\\right]\\right)=\\overrightarrow{0}$\n",
    "\n",
    "Luego\n",
    "\n",
    "$\\det\\left(\\left[\\begin{array}{cc}\n",
    "\\lambda-1 & -1\\\\\n",
    "-1 & \\lambda\n",
    "\\end{array}\\right]\\right)=(\\lambda-1)\\lambda-(-1)(-1)=\\lambda^{2}-\\lambda-1$\n",
    " \n",
    "## Valores propios\n",
    "\n",
    "Para obtener los valores propios usamos la fórmula general para encontrar valores de $\\lambda$ que satisfagan el polinomio característico\n",
    "\n",
    "$p(\\lambda)=\\lambda^{2}-\\lambda-1$\n",
    "\n",
    "Acá la fórmula general:\n",
    "$x=\\frac{-b\\pm\\sqrt{b^{2}-4ac}}{2a}$\n",
    " \n",
    "$\\lambda=\\frac{1\\pm\\sqrt{-1^{2}-4(1)(-1)}}{2(1)}=\\frac{1\\pm\\sqrt{1+4}}{2}$\n",
    "\n",
    "Por eso\n",
    "\n",
    "$\\begin{array}{c}\n",
    "\\lambda_{1}=\\frac{1+\\sqrt{5}}{2}\\\\\n",
    "\\lambda_{2}=\\frac{1-\\sqrt{5}}{2}\n",
    "\\end{array}$\n",
    "<a name=\"eq6\">.......eq6</a>\n",
    " \n",
    " \n",
    " ## Vectores propios\n",
    " \n",
    "$\\left[\\begin{array}{cc}\n",
    "\\lambda-1 & -1\\\\\n",
    "-1 & \\lambda\n",
    "\\end{array}\\right]\\overrightarrow{X}=\\left[\\begin{array}{cc}\n",
    "\\lambda-1 & -1\\\\\n",
    "-1 & \\lambda\n",
    "\\end{array}\\right]\\left[\\begin{array}{c}x_{1}\\\\\n",
    "x_{2}\\end{array}\\right]$\n",
    "\n",
    "Equivale al sistema de ecuaciones\n",
    "\n",
    "$(\\lambda-1)x_{1}-x_{2}=0$....(1)\n",
    "\n",
    "$-x_{1}+\\lambda x_{2}=0$.....(2)\n",
    "\n",
    "Despejando $x_{1}$ en (2)\n",
    "\n",
    "$x_{1}=\\lambda x_{2}$\n",
    "\n",
    "que sustituyendo en (1)\n",
    "\n",
    "$(\\lambda-1)\\lambda x_{2}-x_{2}=0$\n",
    "\n",
    "factorizamos $x_{2}$ \n",
    "\n",
    "$x_{2}\\left[(\\lambda-1)\\lambda-1\\right]=0$\n",
    "\n",
    "sea $x_{2}=1$ en (2)\n",
    "\n",
    "$-x_{1}+\\lambda=0$\n",
    "\n",
    "$x_{1}=\\lambda$\n",
    "\n",
    "Por eso los vectores propios son\n",
    "\n",
    "$v_{1}=\\left[\\begin{array}{c}\n",
    "\\lambda_{1}\\\\\n",
    "1\n",
    "\\end{array}\\right],\\: v_{2}=\\left[\\begin{array}{c}\n",
    "\\lambda_{2}\\\\\n",
    "1\n",
    "\\end{array}\\right]$\n",
    "<a name=\"eq7\">.......eq7</a>\n",
    "\n",
    "\n",
    "## Matriz de transición P\n",
    "\n",
    "Con $v_{1}$ y $v_{2}$ formamos la matriz $P$.\n",
    "\n",
    "Para obtener la matriz invertida $P^{-1}$ Anton y Rorres muestran este teorema:\n",
    "\n",
    "Si\n",
    "\n",
    "$A=\\left[\\begin{array}{cc}\n",
    "a & b\\\\\n",
    "c & d\n",
    "\\end{array}\\right]$\n",
    " \n",
    "entonces\n",
    "\n",
    "$A^{-1}=\\frac{1}{ad-bc}\\left[\\begin{array}{cc}\n",
    "d & -b\\\\\n",
    "-c & a\n",
    "\\end{array}\\right]$\n",
    " \n",
    "Teniendo la matriz\n",
    "\n",
    "$P=\\left[\\begin{array}{cc}\n",
    "\\lambda_{1} & \\lambda_{2}\\\\\n",
    "1 & 1\n",
    "\\end{array}\\right]$\n",
    "\n",
    "entonces\n",
    "\n",
    "$P^{-1}=\\frac{1}{\\lambda_{1}-\\lambda_{2}}\\left[\\begin{array}{cc}\n",
    "1 & -\\lambda_{2}\\\\\n",
    "-1 & \\lambda_{1}\n",
    "\\end{array}\\right]$\n",
    "\n",
    "Para comprobar\n",
    "\n",
    "$P^{-1}AP=\\left[\\begin{array}{cc}\n",
    "\\lambda_{1} & 0\\\\\n",
    "0 & \\lambda_{2}\n",
    "\\end{array}\\right]=D$\n",
    " \n",
    "basta con multiplicar las matrices $P^{-1}AP$. Como está laborioso hagámoslo con numpy en la siguiente celda.\n"
   ]
  },
  {
   "cell_type": "code",
   "execution_count": 3,
   "metadata": {
    "collapsed": false
   },
   "outputs": [
    {
     "name": "stdout",
     "output_type": "stream",
     "text": [
      "lambda1=1.618033988749895, lambda2=-0.6180339887498949\n"
     ]
    },
    {
     "data": {
      "text/plain": [
       "matrix([[  1.61803399e+00,  -1.11022302e-16],\n",
       "        [  1.66533454e-16,  -6.18033989e-01]])"
      ]
     },
     "execution_count": 3,
     "metadata": {},
     "output_type": "execute_result"
    }
   ],
   "source": [
    "from math import sqrt\n",
    "\n",
    "# eigenvalores\n",
    "l1=(1+sqrt(5))/2.0\n",
    "l2=(1-sqrt(5))/2.0\n",
    "\n",
    "print(\"lambda1=%s, lambda2=%s\" % (l1,l2))\n",
    "\n",
    "# la matriz de transicion P\n",
    "P = np.matrix([[l1, l2],\n",
    "               [1,  1]])\n",
    "\n",
    "# valores como 1.66533454e-16 son como ceros! esto pasa por no hacerlo analiticamente\n",
    "(P**-1)*A*P"
   ]
  },
  {
   "cell_type": "markdown",
   "metadata": {},
   "source": [
    "## En pos de la \"fórmula cerrada\" \n",
    "\n",
    "Si $A$ es diagonalizable entonces existe \n",
    "\n",
    "$P^{-1}AP=D$\n",
    "\n",
    "Como $PP^{-1}=I$ es la matriz identidad, y es el neutro multiplicativo.\n",
    "\n",
    "$PP^{-1}APP^{-1}=PDP^{-1}$\n",
    "\n",
    "luego\n",
    "\n",
    "$A=PDP^{-1}$\n",
    "\n",
    "y entonces\n",
    "\n",
    "$A^{k}=\\left(PDP^{-1}\\right)^{k}$\n",
    "\n",
    "ello significa que $PDP^{-1}$ se multiplica $k$ veces\n",
    "\n",
    "$A^{k}=\\left(PDP^{-1}\\right)\\left(PDP^{-1}\\right)\\left(PDP^{-1}\\right)...$\n",
    "\n",
    "cambiando la agrupación de los paréntesis se tiene\n",
    "\n",
    "$A^{k}=PDDD...DP^{-1}$\n",
    "\n",
    "lo cuál explica la siguiente ecuación:\n",
    "\n",
    "$A^{k}=PD^{k}P^{-1}$\n",
    "<a name=\"eq8\">.......eq8</a>\n",
    "\n",
    "----\n",
    "\n",
    "Sustituyendo <a href=\"#eq8\">eq8</a> en <a href=\"#eq4\">eq4</a> tenemos que\n",
    "\n",
    "$\\mathbf{u}_{k}=(PD^{k}P^{-1})\\mathbf{u}_{0}$\n",
    "\n",
    "no olvidar que\n",
    "\n",
    "$u_{0}=\\left[\\begin{array}{c}\n",
    "F_{1}\\\\\n",
    "F_{0}\n",
    "\\end{array}\\right]=\\left[\\begin{array}{c}\n",
    "1\\\\\n",
    "0\n",
    "\\end{array}\\right]$\n",
    "\n",
    "Luego se trata de otra larga multiplicación de matrices.\n",
    "\n",
    "$u_{k}=\\left[\\begin{array}{cc}\n",
    "\\lambda_{1} & \\lambda_{2}\\\\\n",
    "1 & 1\n",
    "\\end{array}\\right]\\left[\\begin{array}{cc}\n",
    "\\lambda_{1}^{k} & 0\\\\\n",
    "0 & \\lambda_{2}^{k}\n",
    "\\end{array}\\right]\\frac{1}{\\lambda_{1}-\\lambda_{2}}\\left[\\begin{array}{cc}\n",
    "1 & -\\lambda_{2}\\\\\n",
    "-1 & \\lambda_{1}\n",
    "\\end{array}\\right]\\left[\\begin{array}{c}\n",
    "1\\\\\n",
    "0\n",
    "\\end{array}\\right]$\n",
    " \n",
    " \n",
    " $u_{k}=\\left[\\begin{array}{cc}\n",
    "\\lambda_{1} & \\lambda_{2}\\\\\n",
    "1 & 1\n",
    "\\end{array}\\right]\\left[\\begin{array}{cc}\n",
    "\\lambda_{1}^{k} & 0\\\\\n",
    "0 & \\lambda_{2}^{k}\n",
    "\\end{array}\\right]\\left[\\begin{array}{c}\n",
    "1\\\\\n",
    "-1\n",
    "\\end{array}\\right]\\frac{1}{\\lambda_{1}-\\lambda_{2}}$\n",
    "\n",
    "\n",
    "$u_{k}=\\left[\\begin{array}{cc}\n",
    "\\lambda_{1} & \\lambda_{2}\\\\\n",
    "1 & 1\n",
    "\\end{array}\\right]\\left[\\begin{array}{c}\n",
    "\\lambda_{1}^{k}\\\\\n",
    "-\\lambda_{2}^{k}\n",
    "\\end{array}\\right]\\frac{1}{\\lambda_{1}-\\lambda_{2}}$\n",
    "\n",
    "y finalmente\n",
    "\n",
    "$\\mathbf{u}_{k}=(PD^{k}P^{-1})\\mathbf{u}_{0}=\\frac{1}{\\lambda_{1}-\\lambda_{2}}\\left[\\begin{array}{c}\n",
    "\\lambda_{1}^{k+1}-\\lambda_{2}^{k+1}\\\\\n",
    "\\lambda_{1}^{k}-\\lambda_{2}^{k}\n",
    "\\end{array}\\right]$\n",
    "\n",
    "También\n",
    "$u_{k}=\\left[\\begin{array}{c}\n",
    "F_{k+1}\\\\\n",
    "F_{k}\n",
    "\\end{array}\\right]$ entonces\n",
    "\n",
    "$F_{k}=\\frac{1}{\\lambda_{1}-\\lambda_{2}}\\left(\\lambda_{1}^{k}-\\lambda_{2}^{k}\\right)$\n",
    "\n",
    "Por otro lado\n",
    "\n",
    "$\\frac{1}{\\lambda_{1}-\\lambda_{2}}=\\frac{1}{\\frac{1+\\sqrt{5}}{2}-\\frac{1-\\sqrt{5}}{2}}=\\frac{1}{\\frac{(1+\\sqrt{5})-(1-\\sqrt{5})}{2}}=\\frac{1}{\\frac{1+\\sqrt{5}-1+\\sqrt{5})}{2}}=\\frac{1}{\\frac{2\\sqrt{5}}{2}}=\\frac{1}{\\sqrt{5}}$\n",
    "\n",
    "que si lo multiplicamos por $\\left(\\lambda_{1}^{k}-\\lambda_{2}^{k}\\right)$ equivale a la <a href=\"#eq2\">eq2</a>:\n",
    "\n",
    "$F_{k}=\\frac{1}{\\sqrt{5}}\\left[\\left(\\frac{1+\\sqrt{5}}{2}\\right)^{k}-\\left(\\frac{1-\\sqrt{5}}{2}\\right)^{k}\\right]$"
   ]
  },
  {
   "cell_type": "markdown",
   "metadata": {},
   "source": [
    "# Implementación Recursiva"
   ]
  },
  {
   "cell_type": "code",
   "execution_count": 4,
   "metadata": {
    "collapsed": false,
    "scrolled": false
   },
   "outputs": [
    {
     "name": "stdout",
     "output_type": "stream",
     "text": [
      "F0=0\n",
      "F1=1\n",
      "F2=1\n",
      "F3=2\n",
      "F4=3\n",
      "F5=5\n",
      "F6=8\n",
      "F7=13\n",
      "F8=21\n",
      "F9=34\n",
      "F10=55\n",
      "F11=89\n",
      "F12=144\n",
      "F13=233\n",
      "F14=377\n",
      "F15=610\n",
      "F16=987\n",
      "F17=1597\n",
      "F18=2584\n",
      "F19=4181\n",
      "F20=6765\n",
      "F21=10946\n",
      "F22=17711\n",
      "F23=28657\n",
      "F24=46368\n"
     ]
    }
   ],
   "source": [
    "def fibonacci(k):\n",
    "    if k <= 1:\n",
    "        return k\n",
    "    else:\n",
    "        return fibonacci(k-1) + fibonacci(k-2)\n",
    "\n",
    "#  el indice empieza en cero\n",
    "for n in range(25):\n",
    "    print(\"F%s=%s\" % (n,fibonacci(n)))"
   ]
  },
  {
   "cell_type": "markdown",
   "metadata": {},
   "source": [
    "### Sucesión de Lucas\n",
    "\n",
    "Esta serie es igual a la de Fibonacci pero empieza con $F_{0}=1$ y $F_{1}=2$."
   ]
  },
  {
   "cell_type": "code",
   "execution_count": 5,
   "metadata": {
    "collapsed": false,
    "scrolled": true
   },
   "outputs": [
    {
     "name": "stdout",
     "output_type": "stream",
     "text": [
      "F0=1\n",
      "F1=2\n",
      "F2=3\n",
      "F3=5\n",
      "F4=8\n",
      "F5=13\n",
      "F6=21\n",
      "F7=34\n",
      "F8=55\n",
      "F9=89\n",
      "F10=144\n",
      "F11=233\n",
      "F12=377\n",
      "F13=610\n",
      "F14=987\n",
      "F15=1597\n",
      "F16=2584\n",
      "F17=4181\n",
      "F18=6765\n",
      "F19=10946\n",
      "F20=17711\n",
      "F21=28657\n",
      "F22=46368\n",
      "F23=75025\n",
      "F24=121393\n"
     ]
    }
   ],
   "source": [
    "def lucas(k):\n",
    "    if k == 0:\n",
    "        return 1\n",
    "    elif k == 1:\n",
    "        return 2\n",
    "    else:\n",
    "        return lucas(k-1) + lucas(k-2)\n",
    "\n",
    "#  el indice empieza en cero\n",
    "for n in range(25):\n",
    "    print(\"F%s=%s\" % (n,lucas(n)))"
   ]
  },
  {
   "cell_type": "markdown",
   "metadata": {},
   "source": [
    "¿Cómo se ven las series de Lucas y Fibonacci juntas?"
   ]
  },
  {
   "cell_type": "code",
   "execution_count": 6,
   "metadata": {
    "collapsed": false
   },
   "outputs": [
    {
     "data": {
      "text/plain": [
       "[[0, 1],\n",
       " [1, 2],\n",
       " [1, 3],\n",
       " [2, 5],\n",
       " [3, 8],\n",
       " [5, 13],\n",
       " [8, 21],\n",
       " [13, 34],\n",
       " [21, 55],\n",
       " [34, 89],\n",
       " [55, 144]]"
      ]
     },
     "execution_count": 6,
     "metadata": {},
     "output_type": "execute_result"
    },
    {
     "data": {
      "image/png": "[encoded data removed]",
      "text/plain": [
       "<matplotlib.figure.Figure at 0xb1744a8c>"
      ]
     },
     "metadata": {},
     "output_type": "display_data"
    }
   ],
   "source": [
    "# importamos bibliotecas para plotear\n",
    "import matplotlib\n",
    "import matplotlib.pyplot as plt\n",
    "\n",
    "# para desplegar los plots en el notebook\n",
    "%matplotlib inline\n",
    "\n",
    "p = []\n",
    "for n in range(11):\n",
    "    p.append([fibonacci(n), lucas(n)])\n",
    "\n",
    "figura = plt.plot( p )\n",
    "p"
   ]
  },
  {
   "cell_type": "markdown",
   "metadata": {},
   "source": [
    "## Fibonacci con fórmula"
   ]
  },
  {
   "cell_type": "code",
   "execution_count": 7,
   "metadata": {
    "collapsed": false,
    "scrolled": false
   },
   "outputs": [
    {
     "name": "stdout",
     "output_type": "stream",
     "text": [
      "F0=0\n",
      "F1=1\n",
      "F2=1\n",
      "F3=2\n",
      "F4=3\n",
      "F5=5\n",
      "F6=8\n",
      "F7=13\n",
      "F8=21\n",
      "F9=34\n",
      "F10=55\n",
      "F11=89\n",
      "F12=144\n",
      "F13=233\n",
      "F14=377\n",
      "F15=610\n",
      "F16=987\n",
      "F17=1597\n",
      "F18=2584\n",
      "F19=4181\n",
      "F20=6765\n",
      "F21=10946\n",
      "F22=17711\n",
      "F23=28657\n",
      "F24=46368\n"
     ]
    }
   ],
   "source": [
    "def fibonacci_formula(k):\n",
    "    return (1.0/sqrt(5))*(((1.0+sqrt(5))/2)**k-((1.0-sqrt(5))/2)**k)\n",
    "\n",
    "#  el indice empieza en cero\n",
    "for n in range(25):\n",
    "    print(\"F%i=%i\" % (n,fibonacci_formula(n)))\n"
   ]
  },
  {
   "cell_type": "markdown",
   "metadata": {},
   "source": [
    "# Dificultades algorítmicas\n",
    "\n",
    "Desde el punto de vista computacional la implementación recursiva es más eficiente.\n",
    "\n",
    "Al parecer es más costoso computacionalmente hacer todas esas raices cuadradas.\n",
    "\n",
    "Desde el punto de vista del programador, cuando ya se tiene la fórmula cerrada, el programa es mucho más fácil de escribir. ¿Qué será más costoso desde el punto de vista analítico: obtener la fórmula u obtener el algoritmo recursivo?"
   ]
  },
  {
   "cell_type": "code",
   "execution_count": 13,
   "metadata": {
    "collapsed": false
   },
   "outputs": [
    {
     "data": {
      "image/png": "[encoded data removed]",
      "text/plain": [
       "<matplotlib.figure.Figure at 0xa9bd880c>"
      ]
     },
     "metadata": {},
     "output_type": "display_data"
    },
    {
     "data": {
      "text/plain": [
       "[0.0013091879955027252, 0.038078837998909876]"
      ]
     },
     "execution_count": 13,
     "metadata": {},
     "output_type": "execute_result"
    }
   ],
   "source": [
    "import timeit\n",
    "\n",
    "# timer recursivo\n",
    "tr = timeit.Timer(\"\"\"def fibonacci(k):\n",
    "    if k <= 1:\n",
    "        return k\n",
    "    else:\n",
    "        return fibonacci(k-1) + fibonacci(k-2)\n",
    "\n",
    "    fibonacci(25)\"\"\")\n",
    "\n",
    "# timer formula\n",
    "tf = timeit.Timer(\"\"\"from math import sqrt\n",
    "\n",
    "def fibonacci_formula(k):\n",
    "    return (1.0/sqrt(5))*(((1.0+sqrt(5))/2)**k-((1.0-sqrt(5))/2)**k)\n",
    "\n",
    "fibonacci_formula(25)\"\"\")\n",
    "\n",
    "\n",
    "y=[tr.timeit(10000),\n",
    "   tf.timeit(10000)]\n",
    "\n",
    "plt.bar([0,1], y, align='center', alpha=0.5)\n",
    "plt.xticks([0,1],['recursivo', 'formula'])\n",
    "plt.ylabel('milisegundos')\n",
    "plt.title('10,000 ejecuciones, k=25')\n",
    " \n",
    "plt.show()\n",
    "y"
   ]
  },
  {
   "cell_type": "markdown",
   "metadata": {},
   "source": [
    "¡Hay un orden de magnitud de diferencia entre los tiempos de ejecución promedio de ambas implementaciones!"
   ]
  }
 ],
 "metadata": {
  "kernelspec": {
   "display_name": "Python 3",
   "language": "python",
   "name": "python3"
  },
  "language_info": {
   "codemirror_mode": {
    "name": "ipython",
    "version": 3
   },
   "file_extension": ".py",
   "mimetype": "text/x-python",
   "name": "python",
   "nbconvert_exporter": "python",
   "pygments_lexer": "ipython3",
   "version": "3.4.3"
  }
 },
 "nbformat": 4,
 "nbformat_minor": 1
}
