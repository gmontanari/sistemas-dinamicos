{
 "cells": [
  {
   "cell_type": "code",
   "execution_count": 1,
   "metadata": {
    "collapsed": true
   },
   "outputs": [],
   "source": [
    "# importamos bibliotecas cómputo de matrices\n",
    "import numpy as np\n",
    "\n",
    "# importamos bibliotecas para plotear\n",
    "import matplotlib\n",
    "import matplotlib.pyplot as plt\n",
    "\n",
    "# para desplegar los plots en el notebook\n",
    "%matplotlib inline"
   ]
  },
  {
   "cell_type": "markdown",
   "metadata": {},
   "source": [
    "# Serie de Fibonacci\n",
    "\n",
    "La serie de Fibonacci se usa para modelar crecimiento de poblaciones de bichos.\n",
    "\n",
    "La ecuación de recurrencia de segundo orden es así:\n",
    "\n",
    "\\begin{equation}\n",
    "K_{0}\n",
    "\\label{eq1}\n",
    "\\end{equation}\n",
    "\n",
    "Con valores iniciales $F_{0}=1, F_{1}=1$ la secuencia es:\n",
    "\n",
    "$0,1,1,2,3,5,8,13,...$\n",
    "\n",
    "\n",
    "\n",
    "Hay dos formas de obtener el k-ésimo valor de esta serie. Usando la ecuación de recurrencia \\ref{eq1} o usando esta fórmula cerrada:\n",
    "\n",
    "$F_{k}=\\frac{1}{\\sqrt{5}}\\left[\\left(\\frac{1+\\sqrt{5}}{2}\\right)^{k}-\\left(\\frac{1-\\sqrt{5}}{2}\\right)^{k}\\right]$\n"
   ]
  }
 ],
 "metadata": {
  "kernelspec": {
   "display_name": "Python 3",
   "language": "python",
   "name": "python3"
  },
  "language_info": {
   "codemirror_mode": {
    "name": "ipython",
    "version": 3
   },
   "file_extension": ".py",
   "mimetype": "text/x-python",
   "name": "python",
   "nbconvert_exporter": "python",
   "pygments_lexer": "ipython3",
   "version": "3.4.3"
  }
 },
 "nbformat": 4,
 "nbformat_minor": 1
}
