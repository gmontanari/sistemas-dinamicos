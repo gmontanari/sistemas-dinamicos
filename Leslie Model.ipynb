{
 "cells": [
  {
   "cell_type": "code",
   "execution_count": 1,
   "metadata": {
    "collapsed": true,
    "slideshow": {
     "slide_type": "-"
    }
   },
   "outputs": [],
   "source": [
    "# importamos bibliotecas de para plotear y para cómputo de matrices\n",
    "\n",
    "%matplotlib inline\n",
    "import numpy as np\n",
    "import matplotlib\n",
    "import matplotlib.pyplot as plt"
   ]
  },
  {
   "cell_type": "markdown",
   "metadata": {
    "slideshow": {
     "slide_type": "slide"
    }
   },
   "source": [
    "# Modelo Leslie\n",
    "\n",
    "Este modelo dice que las hembras y que nosequé.\n"
   ]
  },
  {
   "cell_type": "code",
   "execution_count": 2,
   "metadata": {
    "collapsed": false,
    "scrolled": true,
    "slideshow": {
     "slide_type": "slide"
    }
   },
   "outputs": [],
   "source": [
    "# el modelo de Leslie\n",
    "L = np.array([[0,     1,  2, 1],\n",
    "              [0.8,   0,  0, 0],\n",
    "              [0,   0.7,  0, 0],\n",
    "              [0,     0, 0.5,0]])\n",
    "\n",
    "x = [[100,100,100,100]] # población inicial\n",
    "x_ratio = []        # arreglo vacío para guardar las proporciones para cada t"
   ]
  },
  {
   "cell_type": "markdown",
   "metadata": {},
   "source": [
    "## Acá corremos el modelo por 30 iteraciones"
   ]
  },
  {
   "cell_type": "code",
   "execution_count": 3,
   "metadata": {
    "collapsed": false,
    "scrolled": true,
    "slideshow": {
     "slide_type": "slide"
    }
   },
   "outputs": [],
   "source": [
    "for t in range(31):\n",
    "    pop_classes = np.dot(L,x[t])\n",
    "    pop_total   = pop_classes.sum()\n",
    "    x.append(pop_classes)\n",
    "    x_ratio.append([class_size/pop_total for class_size in pop_classes])\n",
    "\n"
   ]
  },
  {
   "cell_type": "markdown",
   "metadata": {},
   "source": [
    "## Tamaños de clases de poblaciones\n",
    "\n",
    "Al Paso del tiempo las poblaciones crecen."
   ]
  },
  {
   "cell_type": "code",
   "execution_count": 4,
   "metadata": {
    "collapsed": false
   },
   "outputs": [
    {
     "data": {
      "text/plain": [
       "array([[ 100.  ,  100.  ,  100.  ,  100.  ],\n",
       "       [ 400.  ,   80.  ,   70.  ,   50.  ],\n",
       "       [ 270.  ,  320.  ,   56.  ,   35.  ],\n",
       "       [ 467.  ,  216.  ,  224.  ,   28.  ],\n",
       "       [ 692.  ,  373.6 ,  151.2 ,  112.  ],\n",
       "       [ 788.  ,  553.6 ,  261.52,   75.6 ]])"
      ]
     },
     "execution_count": 4,
     "metadata": {},
     "output_type": "execute_result"
    }
   ],
   "source": [
    "np.array(x[0:6])"
   ]
  },
  {
   "cell_type": "code",
   "execution_count": 5,
   "metadata": {
    "collapsed": false,
    "slideshow": {
     "slide_type": "slide"
    }
   },
   "outputs": [
    {
     "data": {
      "text/plain": [
       "[<matplotlib.lines.Line2D at 0xa9cdc86c>,\n",
       " <matplotlib.lines.Line2D at 0xa9cdca4c>,\n",
       " <matplotlib.lines.Line2D at 0xa9cdcdac>,\n",
       " <matplotlib.lines.Line2D at 0xa9cdcfec>]"
      ]
     },
     "execution_count": 5,
     "metadata": {},
     "output_type": "execute_result"
    },
    {
     "data": {
      "image/png": "[encoded data removed]",
      "text/plain": [
       "<matplotlib.figure.Figure at 0xaad11c6c>"
      ]
     },
     "metadata": {},
     "output_type": "display_data"
    }
   ],
   "source": [
    "plt.plot(x)"
   ]
  },
  {
   "cell_type": "markdown",
   "metadata": {},
   "source": [
    "## Proporciones de tamaños de clases de poblaciones\n",
    "\n",
    "Pero el tamaño proporcional de las clases de subpoblación se estabiliza."
   ]
  },
  {
   "cell_type": "code",
   "execution_count": 6,
   "metadata": {
    "collapsed": false
   },
   "outputs": [
    {
     "data": {
      "text/plain": [
       "array([[ 0.66666667,  0.13333333,  0.11666667,  0.08333333],\n",
       "       [ 0.39647577,  0.46989721,  0.08223201,  0.05139501],\n",
       "       [ 0.49946524,  0.23101604,  0.23957219,  0.02994652],\n",
       "       [ 0.52077062,  0.28115593,  0.11378688,  0.08428657],\n",
       "       [ 0.46940526,  0.32977507,  0.15578536,  0.04503431],\n",
       "       [ 0.5007736 ,  0.27397737,  0.16841959,  0.05682944]])"
      ]
     },
     "execution_count": 6,
     "metadata": {},
     "output_type": "execute_result"
    }
   ],
   "source": [
    "np.array(x_ratio[0:6])"
   ]
  },
  {
   "cell_type": "code",
   "execution_count": 7,
   "metadata": {
    "collapsed": false,
    "scrolled": true
   },
   "outputs": [
    {
     "data": {
      "text/plain": [
       "[<matplotlib.lines.Line2D at 0xa9c8b1ec>,\n",
       " <matplotlib.lines.Line2D at 0xa9c8b42c>,\n",
       " <matplotlib.lines.Line2D at 0xa9c8b78c>,\n",
       " <matplotlib.lines.Line2D at 0xa9c8b9cc>]"
      ]
     },
     "execution_count": 7,
     "metadata": {},
     "output_type": "execute_result"
    },
    {
     "data": {
      "image/png": "[encoded data removed]",
      "text/plain": [
       "<matplotlib.figure.Figure at 0xa9c192cc>"
      ]
     },
     "metadata": {},
     "output_type": "display_data"
    }
   ],
   "source": [
    "plt.plot(x_ratio)"
   ]
  }
 ],
 "metadata": {
  "kernelspec": {
   "display_name": "Python 3",
   "language": "python",
   "name": "python3"
  },
  "language_info": {
   "codemirror_mode": {
    "name": "ipython",
    "version": 3
   },
   "file_extension": ".py",
   "mimetype": "text/x-python",
   "name": "python",
   "nbconvert_exporter": "python",
   "pygments_lexer": "ipython3",
   "version": "3.4.3"
  }
 },
 "nbformat": 4,
 "nbformat_minor": 1
}
