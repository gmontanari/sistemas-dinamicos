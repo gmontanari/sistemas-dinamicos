{
 "cells": [
  {
   "cell_type": "code",
   "execution_count": 1,
   "metadata": {
    "collapsed": false,
    "slideshow": {
     "slide_type": "-"
    }
   },
   "outputs": [],
   "source": [
    "# importamos bibliotecas cómputo de matrices\n",
    "import numpy as np\n",
    "\n",
    "# importamos bibliotecas para plotear\n",
    "import matplotlib\n",
    "import matplotlib.pyplot as plt\n",
    "\n",
    "# para desplegar los plots en el notebook\n",
    "%matplotlib inline"
   ]
  },
  {
   "cell_type": "markdown",
   "metadata": {
    "slideshow": {
     "slide_type": "slide"
    }
   },
   "source": [
    "# Matriz de Leslie\n",
    "\n",
    "La Matriz de Leslie se usa en ecología para modelar los cambios en una\n",
    "población de organismos a través de un lapso. En este modelo la\n",
    "población se divide en grupos de edad. Para cada unidad de tiempo la\n",
    "población se representa con un vector con un elemento por cada clase\n",
    "de edad.\n",
    "\n",
    "Se trata de una matriz cuadrada con tantos renglones y columnas como\n",
    "el vector de clases tiene elementos.\n",
    "\n",
    "$$ L=\\left[\\begin{array}{cccc}\n",
    "0 & 1 & 2 & 1\\\\\n",
    "0.8 & 0 & 0 & 0\\\\\n",
    "0 & 0.7 & 0 & 0\\\\\n",
    "0 & 0 & 0.5 & 0\n",
    "\\end{array}\\right] $$\n"
   ]
  },
  {
   "cell_type": "code",
   "execution_count": 2,
   "metadata": {
    "collapsed": false,
    "scrolled": true,
    "slideshow": {
     "slide_type": "slide"
    }
   },
   "outputs": [],
   "source": [
    "# el modelo de Leslie\n",
    "L = np.array([[0,     1,  2],\n",
    "              [0.8,   0,  0],\n",
    "              [0,   0.7,  0]])\n",
    "\n",
    "# las cuatro clases de edad tienen 100 pobladoras al inicio\n",
    "poblacion_inicial = [100,100,100]\n",
    "\n",
    "# lista para contener un vector de tamaños de población por clase para\n",
    "# cada unidad de tiempo transcurrida en la simulación. Inicializamos con\n",
    "# la poblacion inicial en el tiempo cero.\n",
    "historico_de_poblaciones  = [ poblacion_inicial, ]\n",
    "\n",
    "\n",
    "# en otra lista guardaremos las proporciones de cada clase respecto del\n",
    "# total de la población.\n",
    "historico_de_proporciones = []"
   ]
  },
  {
   "cell_type": "markdown",
   "metadata": {},
   "source": [
    "## Al paso del tiempo\n",
    "\n",
    "En cada paso de tiempo el vector de clases de población se multiplica por la matriz Leslie para generar el vector del siguiente paso.\n"
   ]
  },
  {
   "cell_type": "code",
   "execution_count": 3,
   "metadata": {
    "collapsed": false,
    "scrolled": true,
    "slideshow": {
     "slide_type": "slide"
    }
   },
   "outputs": [],
   "source": [
    "# iteramos 25 veces\n",
    "for t in range(25):\n",
    "    # nuevo vector\n",
    "    vector_de_clases = np.dot(L, historico_de_poblaciones[t])\n",
    "    # al histórico\n",
    "    historico_de_poblaciones.append( vector_de_clases )\n",
    "    \n",
    "    poblacion_total        = vector_de_clases.sum()\n",
    "    vector_de_proporciones = [clase/poblacion_total for clase in vector_de_clases]\n",
    "    historico_de_proporciones.append( vector_de_proporciones )\n"
   ]
  },
  {
   "cell_type": "markdown",
   "metadata": {},
   "source": [
    "## Tamaños de clases de poblaciones\n",
    "\n",
    "Al Paso del tiempo las poblaciones crecen."
   ]
  },
  {
   "cell_type": "code",
   "execution_count": 4,
   "metadata": {
    "collapsed": false
   },
   "outputs": [
    {
     "data": {
      "text/plain": [
       "array([[  100.    ,   100.    ,   100.    ],\n",
       "       [  300.    ,    80.    ,    70.    ],\n",
       "       [  220.    ,   240.    ,    56.    ],\n",
       "       [  352.    ,   176.    ,   168.    ],\n",
       "       [  512.    ,   281.6   ,   123.2   ],\n",
       "       [  528.    ,   409.6   ,   197.12  ],\n",
       "       [  803.84  ,   422.4   ,   286.72  ],\n",
       "       [  995.84  ,   643.072 ,   295.68  ],\n",
       "       [ 1234.432 ,   796.672 ,   450.1504],\n",
       "       [ 1696.9728,   987.5456,   557.6704]])"
      ]
     },
     "execution_count": 4,
     "metadata": {},
     "output_type": "execute_result"
    }
   ],
   "source": [
    "np.array( historico_de_poblaciones[0:10] )"
   ]
  },
  {
   "cell_type": "code",
   "execution_count": 5,
   "metadata": {
    "collapsed": false,
    "slideshow": {
     "slide_type": "slide"
    }
   },
   "outputs": [
    {
     "data": {
      "image/png": "[encoded data removed]",
      "text/plain": [
       "<matplotlib.figure.Figure at 0x7ff5fce81550>"
      ]
     },
     "metadata": {},
     "output_type": "display_data"
    }
   ],
   "source": [
    "figura = plt.plot( historico_de_poblaciones[0:10] )"
   ]
  },
  {
   "cell_type": "code",
   "execution_count": 6,
   "metadata": {
    "collapsed": false,
    "slideshow": {
     "slide_type": "slide"
    }
   },
   "outputs": [
    {
     "data": {
      "image/png": "[encoded data removed]",
      "text/plain": [
       "<matplotlib.figure.Figure at 0x7ff5fad4fc90>"
      ]
     },
     "metadata": {},
     "output_type": "display_data"
    }
   ],
   "source": [
    "figura = plt.plot( historico_de_poblaciones )"
   ]
  },
  {
   "cell_type": "markdown",
   "metadata": {},
   "source": [
    "## Proporciones de tamaños de clases de poblaciones\n",
    "\n",
    "Pero el tamaño proporcional de las clases de subpoblación se estabiliza."
   ]
  },
  {
   "cell_type": "code",
   "execution_count": 7,
   "metadata": {
    "collapsed": false
   },
   "outputs": [
    {
     "data": {
      "text/plain": [
       "array([[ 0.5100068 ,  0.31311847,  0.17687473],\n",
       "       [ 0.51533147,  0.31529188,  0.16937666],\n",
       "       [ 0.50818782,  0.32032671,  0.17148547],\n",
       "       [ 0.51256444,  0.31416244,  0.17327312],\n",
       "       [ 0.51190984,  0.31770344,  0.17038673],\n",
       "       [ 0.51029009,  0.31736575,  0.17234415],\n",
       "       [ 0.51225044,  0.315861  ,  0.17188856],\n",
       "       [ 0.51113296,  0.31754147,  0.17132557],\n",
       "       [ 0.51123111,  0.31664343,  0.17212546],\n",
       "       [ 0.51171443,  0.31666705,  0.17161852]])"
      ]
     },
     "execution_count": 7,
     "metadata": {},
     "output_type": "execute_result"
    }
   ],
   "source": [
    "np.array( historico_de_proporciones[10:20] )"
   ]
  },
  {
   "cell_type": "code",
   "execution_count": 8,
   "metadata": {
    "collapsed": false,
    "scrolled": true
   },
   "outputs": [
    {
     "data": {
      "image/png": "[encoded data removed]",
      "text/plain": [
       "<matplotlib.figure.Figure at 0x7ff5fac6c790>"
      ]
     },
     "metadata": {},
     "output_type": "display_data"
    }
   ],
   "source": [
    "figura = plt.plot( historico_de_proporciones )"
   ]
  },
  {
   "cell_type": "markdown",
   "metadata": {},
   "source": [
    "\n",
    "## Eigenvector, eigenvalor\n",
    "\n",
    "$$P_{t+1}=(1+q)P_{t}$$\n",
    "\n",
    "$$P_{t}=P_{0}(1+q)^{t}$$\n",
    "\n",
    "Distribución de proporciones $\\overrightarrow{Q^{*}}$\n",
    "\n",
    "$$\\overrightarrow{Q^{*}}=\\left[\\begin{array}{c}\n",
    "q_{1}^{*}\\\\\n",
    "q_{2}^{*}\\\\\n",
    "q_{3}^{*}\n",
    "\\end{array}\\right]$$\n",
    "\n",
    "para $t$ grande\n",
    "\n",
    "$$\\overrightarrow{X_{t+1}}=\\overrightarrow{P_{t+1}}\\left[\\begin{array}{c}\n",
    "q_{1}^{*}\\\\\n",
    "q_{2}^{*}\\\\\n",
    "q_{3}^{*}\n",
    "\\end{array}\\right]=(1+q)P_{t}\\overrightarrow{Q^{*}}=\\overrightarrow{X_{t}}(1+q)$$\n",
    "\n",
    "por otro lado\n",
    "\n",
    "$\\overrightarrow{X_{t+1}}=L\\overrightarrow{X_{t}}=\\lambda\\overrightarrow{X_{t}}$\n",
    "\n",
    "donde $\\lambda=1+q$\n",
    "\n",
    "$P_{t}=P_{0}(1+q)^{t}\\Longleftrightarrow P_{t}=P_{0}e^{rt}$, $r=ln(1+q)$\n",
    "\n",
    "Aspiramos a que en general el modelo de Leslie implique que la distribución de proporciones en clases de edad se estabilice, en cuyo caso si \n",
    "$x\\rightarrow\\infty$, $L\\overrightarrow{X_{t}}=\\lambda\\overrightarrow{X_{t}}$\n",
    "\n",
    "## Definición\n",
    "\n",
    "Sea $M$ una matriz $nxn$, se dice $\\overrightarrow{X}$ es un vector propio de $M$ si y sólo si existe lamba en C tal que $M\\overrightarrow{X}=\\lambda\\overrightarrow{X}$. El escalar $\\lambda$ es un valor propio del vector $\\overrightarrow{X}$ propio de $M$.\n",
    "\n",
    "Qué conveniente poder multiplicar por un escalar y no por una matriz.\n",
    "\n",
    "(1) $M\\overrightarrow{X}=\\lambda\\overrightarrow{X}$ que es equivalente a $\\lambda\\overrightarrow{X}-M\\overrightarrow{X}=0$\n",
    "\n",
    "Usemos una matriz identidad como neutro multiplicativo para tener $\\lambda\\overrightarrow{X}$"
   ]
  },
  {
   "cell_type": "code",
   "execution_count": 9,
   "metadata": {
    "collapsed": false
   },
   "outputs": [
    {
     "data": {
      "text/plain": [
       "array([ 0.51140266+0.j,  0.31683815+0.j,  0.17175920+0.j])"
      ]
     },
     "execution_count": 9,
     "metadata": {},
     "output_type": "execute_result"
    }
   ],
   "source": [
    "# lmbd = np.linalg.det(L)\n",
    "v = np.linalg.eig(L)[1][:,0]\n",
    "l=sum(v)\n",
    "v/l\n"
   ]
  },
  {
   "cell_type": "markdown",
   "metadata": {},
   "source": [
    "# Método de newton\n",
    "\n",
    "Vamos sacando la derivada de la función para con esa llegar a X.\n",
    "\n",
    "Encontramos la raíz por ahí de 1.2912"
   ]
  },
  {
   "cell_type": "code",
   "execution_count": 10,
   "metadata": {
    "collapsed": false
   },
   "outputs": [
    {
     "data": {
      "text/plain": [
       "[1.4181818181818182,\n",
       " 1.3039689466672792,\n",
       " 1.2914116724570692,\n",
       " 1.2912653875463846,\n",
       " 1.2912653678175081,\n",
       " 1.2912653678175077,\n",
       " 1.2912653678175077,\n",
       " 1.2912653678175077,\n",
       " 1.2912653678175077,\n",
       " 1.2912653678175077,\n",
       " 1.2912653678175077,\n",
       " 1.2912653678175077,\n",
       " 1.2912653678175077,\n",
       " 1.2912653678175077,\n",
       " 1.2912653678175077]"
      ]
     },
     "execution_count": 10,
     "metadata": {},
     "output_type": "execute_result"
    }
   ],
   "source": [
    "\n",
    "\n",
    "def p(x):\n",
    "    return (x*x*x)-(0.8*x)-1.12\n",
    "\n",
    "# derivada de p\n",
    "def pp(x):\n",
    "    return (3*x*x)-0.8\n",
    "\n",
    "def N(x):\n",
    "    return x - (p(x)/pp(x))\n",
    "\n",
    "j = []\n",
    "x = 1\n",
    "\n",
    "for n in range(15):\n",
    "    x = N(x)\n",
    "    j.append(x)\n",
    "    \n",
    "j"
   ]
  }
 ],
 "metadata": {
  "kernelspec": {
   "display_name": "Python 3",
   "language": "python",
   "name": "python3"
  },
  "language_info": {
   "codemirror_mode": {
    "name": "ipython",
    "version": 3
   },
   "file_extension": ".py",
   "mimetype": "text/x-python",
   "name": "python",
   "nbconvert_exporter": "python",
   "pygments_lexer": "ipython3",
   "version": "3.4.3"
  }
 },
 "nbformat": 4,
 "nbformat_minor": 1
}
