{
 "cells": [
  {
   "cell_type": "code",
   "execution_count": 1,
   "metadata": {
    "collapsed": false,
    "slideshow": {
     "slide_type": "-"
    }
   },
   "outputs": [],
   "source": [
    "# importamos bibliotecas cómputo de matrices\n",
    "import numpy as np\n",
    "\n",
    "# importamos bibliotecas para plotear\n",
    "import matplotlib\n",
    "import matplotlib.pyplot as plt\n",
    "\n",
    "# para desplegar los plots en el notebook\n",
    "%matplotlib inline"
   ]
  },
  {
   "cell_type": "markdown",
   "metadata": {
    "slideshow": {
     "slide_type": "slide"
    }
   },
   "source": [
    "# Matriz de Leslie\n",
    "\n",
    "La Matriz de Leslie se usa en ecología para modelar los cambios en una\n",
    "población de organismos a través de un lapso. En este modelo la\n",
    "población se divide en grupos de edad. Para cada unidad de tiempo la\n",
    "población se representa con un vector con un elemento por cada clase\n",
    "de edad.\n",
    "\n",
    "Se trata de una matriz cuadrada con tantos renglones y columnas como\n",
    "el vector de clases tiene elementos.\n",
    "\n",
    "$$ L=\\left[\\begin{array}{cccc}\n",
    "0 & 1 & 2 & 1\\\\\n",
    "0.8 & 0 & 0 & 0\\\\\n",
    "0 & 0.7 & 0 & 0\\\\\n",
    "0 & 0 & 0.5 & 0\n",
    "\\end{array}\\right] $$\n"
   ]
  },
  {
   "cell_type": "code",
   "execution_count": 2,
   "metadata": {
    "collapsed": false,
    "scrolled": true,
    "slideshow": {
     "slide_type": "slide"
    }
   },
   "outputs": [],
   "source": [
    "# el modelo de Leslie\n",
    "L = np.array([[0,     1,  2, 1],\n",
    "              [0.8,   0,  0, 0],\n",
    "              [0,   0.7,  0, 0],\n",
    "              [0,     0, 0.5,0]])\n",
    "\n",
    "# las cuatro clases de edad tienen 100 pobladoras al inicio\n",
    "poblacion_inicial = [100,100,100,100]\n",
    "\n",
    "# lista para contener un vector de tamaños de población por clase para\n",
    "# cada unidad de tiempo transcurrida en la simulación. Inicializamos con\n",
    "# la poblacion inicial en el tiempo cero.\n",
    "historico_de_poblaciones  = [ poblacion_inicial, ]\n",
    "\n",
    "\n",
    "# en otra lista guardaremos las proporciones de cada clase respecto del\n",
    "# total de la población.\n",
    "historico_de_proporciones = []"
   ]
  },
  {
   "cell_type": "markdown",
   "metadata": {},
   "source": [
    "## Al paso del tiempo\n",
    "\n",
    "En cada paso de tiempo el vector de clases de población se multiplica por la matriz Leslie para generar el vector del siguiente paso.\n"
   ]
  },
  {
   "cell_type": "code",
   "execution_count": 3,
   "metadata": {
    "collapsed": false,
    "scrolled": true,
    "slideshow": {
     "slide_type": "slide"
    }
   },
   "outputs": [],
   "source": [
    "# iteramos 25 veces\n",
    "for t in range(25):\n",
    "    # nuevo vector\n",
    "    vector_de_clases = np.dot(L, historico_de_poblaciones[t])\n",
    "    # al histórico\n",
    "    historico_de_poblaciones.append( vector_de_clases )\n",
    "    \n",
    "    poblacion_total        = vector_de_clases.sum()\n",
    "    vector_de_proporciones = [clase/poblacion_total for clase in vector_de_clases]\n",
    "    historico_de_proporciones.append( vector_de_proporciones )\n"
   ]
  },
  {
   "cell_type": "markdown",
   "metadata": {},
   "source": [
    "## Tamaños de clases de poblaciones\n",
    "\n",
    "Al Paso del tiempo las poblaciones crecen."
   ]
  },
  {
   "cell_type": "code",
   "execution_count": 4,
   "metadata": {
    "collapsed": false
   },
   "outputs": [
    {
     "data": {
      "text/plain": [
       "array([[  100.    ,   100.    ,   100.    ,   100.    ],\n",
       "       [  400.    ,    80.    ,    70.    ,    50.    ],\n",
       "       [  270.    ,   320.    ,    56.    ,    35.    ],\n",
       "       [  467.    ,   216.    ,   224.    ,    28.    ],\n",
       "       [  692.    ,   373.6   ,   151.2   ,   112.    ],\n",
       "       [  788.    ,   553.6   ,   261.52  ,    75.6   ],\n",
       "       [ 1152.24  ,   630.4   ,   387.52  ,   130.76  ],\n",
       "       [ 1536.2   ,   921.792 ,   441.28  ,   193.76  ],\n",
       "       [ 1998.112 ,  1228.96  ,   645.2544,   220.64  ],\n",
       "       [ 2740.1088,  1598.4896,   860.272 ,   322.6272]])"
      ]
     },
     "execution_count": 4,
     "metadata": {},
     "output_type": "execute_result"
    }
   ],
   "source": [
    "np.array(historico_de_poblaciones[0:10])"
   ]
  },
  {
   "cell_type": "code",
   "execution_count": 5,
   "metadata": {
    "collapsed": false,
    "slideshow": {
     "slide_type": "slide"
    }
   },
   "outputs": [
    {
     "data": {
      "text/plain": [
       "[<matplotlib.lines.Line2D at 0x7ff2cc000250>,\n",
       " <matplotlib.lines.Line2D at 0x7ff2cc000410>,\n",
       " <matplotlib.lines.Line2D at 0x7ff2cc000550>,\n",
       " <matplotlib.lines.Line2D at 0x7ff2cc000690>]"
      ]
     },
     "execution_count": 5,
     "metadata": {},
     "output_type": "execute_result"
    },
    {
     "data": {
      "image/png": "[encoded data removed]",
      "text/plain": [
       "<matplotlib.figure.Figure at 0x7ff2ce360590>"
      ]
     },
     "metadata": {},
     "output_type": "display_data"
    }
   ],
   "source": [
    "plt.plot(historico_de_poblaciones[0:10])"
   ]
  },
  {
   "cell_type": "code",
   "execution_count": 6,
   "metadata": {
    "collapsed": false,
    "slideshow": {
     "slide_type": "slide"
    }
   },
   "outputs": [
    {
     "data": {
      "text/plain": [
       "[<matplotlib.lines.Line2D at 0x7ff2cbf05b10>,\n",
       " <matplotlib.lines.Line2D at 0x7ff2cbf05cd0>,\n",
       " <matplotlib.lines.Line2D at 0x7ff2cbf05e10>,\n",
       " <matplotlib.lines.Line2D at 0x7ff2cbf05f50>]"
      ]
     },
     "execution_count": 6,
     "metadata": {},
     "output_type": "execute_result"
    },
    {
     "data": {
      "image/png": "[encoded data removed]",
      "text/plain": [
       "<matplotlib.figure.Figure at 0x7ff2cbfd1590>"
      ]
     },
     "metadata": {},
     "output_type": "display_data"
    }
   ],
   "source": [
    "plt.plot(historico_de_poblaciones)"
   ]
  },
  {
   "cell_type": "markdown",
   "metadata": {},
   "source": [
    "## Proporciones de tamaños de clases de poblaciones\n",
    "\n",
    "Pero el tamaño proporcional de las clases de subpoblación se estabiliza."
   ]
  },
  {
   "cell_type": "code",
   "execution_count": 7,
   "metadata": {
    "collapsed": false
   },
   "outputs": [
    {
     "data": {
      "text/plain": [
       "array([[ 0.66666667,  0.13333333,  0.11666667,  0.08333333],\n",
       "       [ 0.39647577,  0.46989721,  0.08223201,  0.05139501],\n",
       "       [ 0.49946524,  0.23101604,  0.23957219,  0.02994652],\n",
       "       [ 0.52077062,  0.28115593,  0.11378688,  0.08428657],\n",
       "       [ 0.46940526,  0.32977507,  0.15578536,  0.04503431],\n",
       "       [ 0.5007736 ,  0.27397737,  0.16841959,  0.05682944],\n",
       "       [ 0.49666476,  0.29802213,  0.14266907,  0.06264403],\n",
       "       [ 0.48818187,  0.30026144,  0.15764957,  0.05390711],\n",
       "       [ 0.49626188,  0.28950291,  0.15580411,  0.0584311 ],\n",
       "       [ 0.49326105,  0.29691704,  0.15156021,  0.0582617 ]])"
      ]
     },
     "execution_count": 7,
     "metadata": {},
     "output_type": "execute_result"
    }
   ],
   "source": [
    "np.array(historico_de_proporciones[0:10])"
   ]
  },
  {
   "cell_type": "code",
   "execution_count": 8,
   "metadata": {
    "collapsed": false,
    "scrolled": true
   },
   "outputs": [
    {
     "data": {
      "text/plain": [
       "[<matplotlib.lines.Line2D at 0x7ff2cbe53210>,\n",
       " <matplotlib.lines.Line2D at 0x7ff2cbe533d0>,\n",
       " <matplotlib.lines.Line2D at 0x7ff2cbe53510>,\n",
       " <matplotlib.lines.Line2D at 0x7ff2cbe53650>]"
      ]
     },
     "execution_count": 8,
     "metadata": {},
     "output_type": "execute_result"
    },
    {
     "data": {
      "image/png": "[encoded data removed]",
      "text/plain": [
       "<matplotlib.figure.Figure at 0x7ff2cbf48150>"
      ]
     },
     "metadata": {},
     "output_type": "display_data"
    }
   ],
   "source": [
    "plt.plot(historico_de_proporciones)"
   ]
  }
 ],
 "metadata": {
  "kernelspec": {
   "display_name": "Python 2",
   "language": "python",
   "name": "python2"
  },
  "language_info": {
   "codemirror_mode": {
    "name": "ipython",
    "version": 2
   },
   "file_extension": ".py",
   "mimetype": "text/x-python",
   "name": "python",
   "nbconvert_exporter": "python",
   "pygments_lexer": "ipython2",
   "version": "2.7.9"
  }
 },
 "nbformat": 4,
 "nbformat_minor": 1
}
