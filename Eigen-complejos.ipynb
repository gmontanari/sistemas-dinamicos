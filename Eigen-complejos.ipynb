{
 "cells": [
  {
   "cell_type": "code",
   "execution_count": 1,
   "metadata": {
    "collapsed": true,
    "deletable": true,
    "editable": true
   },
   "outputs": [],
   "source": [
    "from sympy import *\n",
    "init_printing()"
   ]
  },
  {
   "cell_type": "code",
   "execution_count": 2,
   "metadata": {
    "collapsed": false,
    "deletable": true,
    "editable": true
   },
   "outputs": [
    {
     "data": {
      "image/png": "[encoded data removed]",
      "text/latex": [
       "$$\\left[\\begin{matrix}4 & -10\\\\2 & -4\\end{matrix}\\right]$$"
      ],
      "text/plain": [
       "⎡4  -10⎤\n",
       "⎢      ⎥\n",
       "⎣2  -4 ⎦"
      ]
     },
     "execution_count": 2,
     "metadata": {},
     "output_type": "execute_result"
    }
   ],
   "source": [
    "A = Matrix([[4, -10], [2, -4]])\n",
    "A"
   ]
  },
  {
   "cell_type": "code",
   "execution_count": 3,
   "metadata": {
    "collapsed": false,
    "deletable": true,
    "editable": true
   },
   "outputs": [
    {
     "data": {
      "image/png": "[encoded data removed]",
      "text/latex": [
       "$$\\lambda^{2} + 4$$"
      ],
      "text/plain": [
       " 2    \n",
       "λ  + 4"
      ]
     },
     "execution_count": 3,
     "metadata": {},
     "output_type": "execute_result"
    }
   ],
   "source": [
    "lamda = symbols('lamda')\n",
    "p = A.charpoly(lamda)\n",
    "factor(p)"
   ]
  },
  {
   "cell_type": "code",
   "execution_count": 4,
   "metadata": {
    "collapsed": false,
    "deletable": true,
    "editable": true
   },
   "outputs": [
    {
     "data": {
      "image/png": "[encoded data removed]",
      "text/latex": [
       "$$\\left \\{ - 2 i : 1, \\quad 2 i : 1\\right \\}$$"
      ],
      "text/plain": [
       "{-2⋅ⅈ: 1, 2⋅ⅈ: 1}"
      ]
     },
     "execution_count": 4,
     "metadata": {},
     "output_type": "execute_result"
    }
   ],
   "source": [
    "A.eigenvals()"
   ]
  },
  {
   "cell_type": "code",
   "execution_count": 5,
   "metadata": {
    "collapsed": false,
    "deletable": true,
    "editable": true
   },
   "outputs": [
    {
     "data": {
      "image/png": "[encoded data removed]",
      "text/latex": [
       "$$\\left [ \\left ( - 2 i, \\quad 1, \\quad \\left [ \\left[\\begin{matrix}\\frac{10}{4 + 2 i}\\\\1\\end{matrix}\\right]\\right ]\\right ), \\quad \\left ( 2 i, \\quad 1, \\quad \\left [ \\left[\\begin{matrix}\\frac{10}{4 - 2 i}\\\\1\\end{matrix}\\right]\\right ]\\right )\\right ]$$"
      ],
      "text/plain": [
       "⎡⎛         ⎡⎡   10  ⎤⎤⎞  ⎛        ⎡⎡   10  ⎤⎤⎞⎤\n",
       "⎢⎜-2⋅ⅈ, 1, ⎢⎢───────⎥⎥⎟, ⎜2⋅ⅈ, 1, ⎢⎢───────⎥⎥⎟⎥\n",
       "⎢⎜         ⎢⎢4 + 2⋅ⅈ⎥⎥⎟  ⎜        ⎢⎢4 - 2⋅ⅈ⎥⎥⎟⎥\n",
       "⎢⎜         ⎢⎢       ⎥⎥⎟  ⎜        ⎢⎢       ⎥⎥⎟⎥\n",
       "⎣⎝         ⎣⎣   1   ⎦⎦⎠  ⎝        ⎣⎣   1   ⎦⎦⎠⎦"
      ]
     },
     "execution_count": 5,
     "metadata": {},
     "output_type": "execute_result"
    }
   ],
   "source": [
    "simplify(A.eigenvects())"
   ]
  }
 ],
 "metadata": {
  "kernelspec": {
   "display_name": "Python 3",
   "language": "python",
   "name": "python3"
  },
  "language_info": {
   "codemirror_mode": {
    "name": "ipython",
    "version": 3
   },
   "file_extension": ".py",
   "mimetype": "text/x-python",
   "name": "python",
   "nbconvert_exporter": "python",
   "pygments_lexer": "ipython3",
   "version": "3.4.2"
  }
 },
 "nbformat": 4,
 "nbformat_minor": 2
}
