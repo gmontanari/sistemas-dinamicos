{
 "cells": [
  {
   "cell_type": "code",
   "execution_count": 2,
   "metadata": {
    "collapsed": false,
    "deletable": true,
    "editable": true
   },
   "outputs": [
    {
     "data": {
      "image/png": "[encoded data removed]",
      "text/latex": [
       "$$- a x + a y$$"
      ],
      "text/plain": [
       "-a⋅x + a⋅y"
      ]
     },
     "execution_count": 2,
     "metadata": {},
     "output_type": "execute_result"
    }
   ],
   "source": [
    "f = -a * x + a * y\n",
    "f"
   ]
  },
  {
   "cell_type": "code",
   "execution_count": 3,
   "metadata": {
    "collapsed": false,
    "deletable": true,
    "editable": true
   },
   "outputs": [
    {
     "data": {
      "image/png": "[encoded data removed]",
      "text/latex": [
       "$$r x - x z - y$$"
      ],
      "text/plain": [
       "r⋅x - x⋅z - y"
      ]
     },
     "execution_count": 3,
     "metadata": {},
     "output_type": "execute_result"
    }
   ],
   "source": [
    "g = r*x -y -x*z\n",
    "g"
   ]
  },
  {
   "cell_type": "code",
   "execution_count": 4,
   "metadata": {
    "collapsed": false,
    "deletable": true,
    "editable": true
   },
   "outputs": [
    {
     "data": {
      "image/png": "[encoded data removed]",
      "text/latex": [
       "$$- b z + x y$$"
      ],
      "text/plain": [
       "-b⋅z + x⋅y"
      ]
     },
     "execution_count": 4,
     "metadata": {},
     "output_type": "execute_result"
    }
   ],
   "source": [
    "h = -b*z + x*y\n",
    "h"
   ]
  },
  {
   "cell_type": "markdown",
   "metadata": {
    "deletable": true,
    "editable": true
   },
   "source": [
    "# Jacobiana"
   ]
  },
  {
   "cell_type": "code",
   "execution_count": 5,
   "metadata": {
    "collapsed": false,
    "deletable": true,
    "editable": true
   },
   "outputs": [
    {
     "data": {
      "image/png": "[encoded data removed]",
      "text/latex": [
       "$$\\left[\\begin{matrix}- a & a & 0\\\\r - z & -1 & - x\\\\y & x & - b\\end{matrix}\\right]$$"
      ],
      "text/plain": [
       "⎡ -a    a   0 ⎤\n",
       "⎢             ⎥\n",
       "⎢r - z  -1  -x⎥\n",
       "⎢             ⎥\n",
       "⎣  y    x   -b⎦"
      ]
     },
     "execution_count": 5,
     "metadata": {},
     "output_type": "execute_result"
    }
   ],
   "source": [
    "J = symbols(\"J\")\n",
    "\n",
    "J = Matrix([[diff(f, x), diff(f, y), diff(f, z)], \n",
    "            [diff(g, x), diff(g, y), diff(g, z)],\n",
    "            [diff(h, x), diff(h, y), diff(h, z)]])\n",
    "J"
   ]
  },
  {
   "cell_type": "markdown",
   "metadata": {
    "deletable": true,
    "editable": true
   },
   "source": [
    "## Evaluada en un punto de equilibrio"
   ]
  },
  {
   "cell_type": "code",
   "execution_count": 6,
   "metadata": {
    "collapsed": false,
    "deletable": true,
    "editable": true
   },
   "outputs": [
    {
     "data": {
      "image/png": "[encoded data removed]",
      "text/latex": [
       "$$\\left[\\begin{matrix}- a & a & 0\\\\r & -1 & 0\\\\0 & 0 & - b\\end{matrix}\\right]$$"
      ],
      "text/plain": [
       "⎡-a  a   0 ⎤\n",
       "⎢          ⎥\n",
       "⎢r   -1  0 ⎥\n",
       "⎢          ⎥\n",
       "⎣0   0   -b⎦"
      ]
     },
     "execution_count": 6,
     "metadata": {},
     "output_type": "execute_result"
    }
   ],
   "source": [
    "J = J.subs({x: 0, y:0, z:0})\n",
    "J "
   ]
  },
  {
   "cell_type": "code",
   "execution_count": 7,
   "metadata": {
    "collapsed": false,
    "deletable": true,
    "editable": true,
    "scrolled": true
   },
   "outputs": [
    {
     "data": {
      "image/png": "[encoded data removed]",
      "text/latex": [
       "$$\\left ( a b r - a b, \\quad - a - b - 1\\right )$$"
      ],
      "text/plain": [
       "(a⋅b⋅r - a⋅b, -a - b - 1)"
      ]
     },
     "execution_count": 7,
     "metadata": {},
     "output_type": "execute_result"
    }
   ],
   "source": [
    "J.det(), J.trace()"
   ]
  },
  {
   "cell_type": "code",
   "execution_count": 8,
   "metadata": {
    "collapsed": false,
    "deletable": true,
    "editable": true
   },
   "outputs": [
    {
     "data": {
      "image/png": "[encoded data removed]",
      "text/latex": [
       "$$\\left ( \\left [ \\left ( - b, \\quad 1, \\quad \\left [ \\left[\\begin{matrix}0\\\\0\\\\1\\end{matrix}\\right]\\right ]\\right ), \\quad \\left ( - \\frac{a}{2} - \\frac{1}{2} \\sqrt{a^{2} + 4 a r - 2 a + 1} - \\frac{1}{2}, \\quad 1, \\quad \\left [ \\left[\\begin{matrix}- \\frac{a}{- \\frac{a}{2} + \\frac{1}{2} \\sqrt{a^{2} + 4 a r - 2 a + 1} + \\frac{1}{2}}\\\\1\\\\0\\end{matrix}\\right]\\right ]\\right ), \\quad \\left ( - \\frac{a}{2} + \\frac{1}{2} \\sqrt{a^{2} + 4 a r - 2 a + 1} - \\frac{1}{2}, \\quad 1, \\quad \\left [ \\left[\\begin{matrix}- \\frac{a}{- \\frac{a}{2} - \\frac{1}{2} \\sqrt{a^{2} + 4 a r - 2 a + 1} + \\frac{1}{2}}\\\\1\\\\0\\end{matrix}\\right]\\right ]\\right )\\right ], \\quad \\left \\{ - b : 1, \\quad - \\frac{a}{2} - \\frac{1}{2} \\sqrt{a^{2} + 4 a r - 2 a + 1} - \\frac{1}{2} : 1, \\quad - \\frac{a}{2} + \\frac{1}{2} \\sqrt{a^{2} + 4 a r - 2 a + 1} - \\frac{1}{2} : 1\\right \\}\\right )$$"
      ],
      "text/plain": [
       "⎛⎡                ⎛         ______________________                            \n",
       "⎜⎢                ⎜        ╱  2                                               \n",
       "⎜⎢                ⎜  a   ╲╱  a  + 4⋅a⋅r - 2⋅a + 1    1     ⎡⎡                -\n",
       "⎜⎢⎛-b, 1, ⎡⎡0⎤⎤⎞, ⎜- ─ - ───────────────────────── - ─, 1, ⎢⎢─────────────────\n",
       "⎜⎢⎜       ⎢⎢ ⎥⎥⎟  ⎜  2               2               2     ⎢⎢         ________\n",
       "⎜⎢⎜       ⎢⎢0⎥⎥⎟  ⎜                                        ⎢⎢        ╱  2     \n",
       "⎜⎢⎜       ⎢⎢ ⎥⎥⎟  ⎜                                        ⎢⎢  a   ╲╱  a  + 4⋅\n",
       "⎜⎢⎝       ⎣⎣1⎦⎦⎠  ⎜                                        ⎢⎢- ─ + ───────────\n",
       "⎜⎢                ⎜                                        ⎢⎢  2              \n",
       "⎜⎢                ⎜                                        ⎢⎢                 \n",
       "⎜⎢                ⎜                                        ⎢⎢                 \n",
       "⎜⎢                ⎜                                        ⎢⎢                 \n",
       "⎝⎣                ⎝                                        ⎣⎣                 \n",
       "\n",
       "                    ⎞  ⎛         ______________________                       \n",
       "                    ⎟  ⎜        ╱  2                                          \n",
       "a                 ⎤⎤⎟  ⎜  a   ╲╱  a  + 4⋅a⋅r - 2⋅a + 1    1     ⎡⎡            \n",
       "──────────────────⎥⎥⎟, ⎜- ─ + ───────────────────────── - ─, 1, ⎢⎢────────────\n",
       "______________    ⎥⎥⎟  ⎜  2               2               2     ⎢⎢         ___\n",
       "                  ⎥⎥⎟  ⎜                                        ⎢⎢        ╱  2\n",
       "a⋅r - 2⋅a + 1    1⎥⎥⎟  ⎜                                        ⎢⎢  a   ╲╱  a \n",
       "────────────── + ─⎥⎥⎟  ⎜                                        ⎢⎢- ─ - ──────\n",
       " 2               2⎥⎥⎟  ⎜                                        ⎢⎢  2         \n",
       "                  ⎥⎥⎟  ⎜                                        ⎢⎢            \n",
       "1                 ⎥⎥⎟  ⎜                                        ⎢⎢            \n",
       "                  ⎥⎥⎟  ⎜                                        ⎢⎢            \n",
       "0                 ⎦⎦⎠  ⎝                                        ⎣⎣            \n",
       "\n",
       "                         ⎞⎤  ⎧                ______________________          \n",
       "                         ⎟⎥  ⎪               ╱  2                             \n",
       "    -a                 ⎤⎤⎟⎥  ⎨         a   ╲╱  a  + 4⋅a⋅r - 2⋅a + 1    1      \n",
       "───────────────────────⎥⎥⎟⎥, ⎪-b: 1, - ─ - ───────────────────────── - ─: 1, -\n",
       "___________________    ⎥⎥⎟⎥  ⎩         2               2               2      \n",
       "                       ⎥⎥⎟⎥                                                   \n",
       " + 4⋅a⋅r - 2⋅a + 1    1⎥⎥⎟⎥                                                   \n",
       "─────────────────── + ─⎥⎥⎟⎥                                                   \n",
       "      2               2⎥⎥⎟⎥                                                   \n",
       "                       ⎥⎥⎟⎥                                                   \n",
       "     1                 ⎥⎥⎟⎥                                                   \n",
       "                       ⎥⎥⎟⎥                                                   \n",
       "     0                 ⎦⎦⎠⎦                                                   \n",
       "\n",
       "        ______________________       ⎫⎞\n",
       "       ╱  2                          ⎪⎟\n",
       " a   ╲╱  a  + 4⋅a⋅r - 2⋅a + 1    1   ⎬⎟\n",
       " ─ + ───────────────────────── - ─: 1⎪⎟\n",
       " 2               2               2   ⎭⎟\n",
       "                                      ⎟\n",
       "                                      ⎟\n",
       "                                      ⎟\n",
       "                                      ⎟\n",
       "                                      ⎟\n",
       "                                      ⎟\n",
       "                                      ⎟\n",
       "                                      ⎠"
      ]
     },
     "execution_count": 8,
     "metadata": {},
     "output_type": "execute_result"
    }
   ],
   "source": [
    "J.eigenvects(), J.eigenvals()"
   ]
  },
  {
   "cell_type": "code",
   "execution_count": 12,
   "metadata": {
    "collapsed": false,
    "deletable": true,
    "editable": true
   },
   "outputs": [
    {
     "ename": "TypeError",
     "evalue": "lambdify() missing 1 required positional argument: 'args'",
     "output_type": "error",
     "traceback": [
      "\u001b[0;31m---------------------------------------------------------------------------\u001b[0m",
      "\u001b[0;31mTypeError\u001b[0m                                 Traceback (most recent call last)",
      "\u001b[0;32m<ipython-input-12-03c3aaac4e66>\u001b[0m in \u001b[0;36m<module>\u001b[0;34m()\u001b[0m\n\u001b[1;32m      2\u001b[0m                    np.linspace(-1, 1, 21))\n\u001b[1;32m      3\u001b[0m \u001b[0mget_ipython\u001b[0m\u001b[0;34m(\u001b[0m\u001b[0;34m)\u001b[0m\u001b[0;34m.\u001b[0m\u001b[0mmagic\u001b[0m\u001b[0;34m(\u001b[0m\u001b[0;34m'pinfo lambdify'\u001b[0m\u001b[0;34m)\u001b[0m\u001b[0;34m\u001b[0m\u001b[0m\n\u001b[0;32m----> 4\u001b[0;31m \u001b[0mu\u001b[0m \u001b[0;34m=\u001b[0m \u001b[0mlambdify\u001b[0m\u001b[0;34m(\u001b[0m\u001b[0mexpr\u001b[0m\u001b[0;34m=\u001b[0m\u001b[0mf\u001b[0m\u001b[0;34m)\u001b[0m\u001b[0;34m\u001b[0m\u001b[0m\n\u001b[0m\u001b[1;32m      5\u001b[0m \u001b[0mv\u001b[0m \u001b[0;34m=\u001b[0m \u001b[0mlambdify\u001b[0m\u001b[0;34m(\u001b[0m\u001b[0mexpr\u001b[0m\u001b[0;34m=\u001b[0m\u001b[0mg\u001b[0m\u001b[0;34m)\u001b[0m\u001b[0;34m\u001b[0m\u001b[0m\n\u001b[1;32m      6\u001b[0m \u001b[0;34m\u001b[0m\u001b[0m\n",
      "\u001b[0;31mTypeError\u001b[0m: lambdify() missing 1 required positional argument: 'args'"
     ]
    }
   ],
   "source": [
    "x, y = np.meshgrid(np.linspace(-1, 1, 21),\n",
    "                   np.linspace(-1, 1, 21))\n",
    "lambdify?\n",
    "u = lambdify(expr=f)\n",
    "v = lambdify(expr=g)\n",
    "\n",
    "plt.quiver(x, y, u, v)\n",
    "\n",
    "plt.show()"
   ]
  }
 ],
 "metadata": {
  "kernelspec": {
   "display_name": "Python 3",
   "language": "python",
   "name": "python3"
  },
  "language_info": {
   "codemirror_mode": {
    "name": "ipython",
    "version": 3
   },
   "file_extension": ".py",
   "mimetype": "text/x-python",
   "name": "python",
   "nbconvert_exporter": "python",
   "pygments_lexer": "ipython3",
   "version": "3.4.2"
  }
 },
 "nbformat": 4,
 "nbformat_minor": 2
}
