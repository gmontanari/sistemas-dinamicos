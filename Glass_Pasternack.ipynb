{
 "cells": [
  {
   "cell_type": "code",
   "execution_count": 1,
   "metadata": {
    "collapsed": false,
    "deletable": true,
    "editable": true
   },
   "outputs": [],
   "source": [
    "import numpy as np\n",
    "\n",
    "# importamos bibliotecas para plotear\n",
    "import matplotlib\n",
    "import matplotlib.pyplot as plt\n",
    "\n",
    "# para desplegar los plots en el notebook\n",
    "%matplotlib inline\n",
    "\n",
    "# para cómputo simbólico\n",
    "from sympy import *\n",
    "\n",
    "# configuramos los símbolos alfa, beta, x y f para su uso en sympy\n",
    "alpha, beta, x = symbols('alpha beta x')\n",
    "f = symbols('f', cls=Function)\n",
    "init_printing()\n",
    "\n",
    "# importamos slider para experimentos interactivos\n",
    "from __future__ import print_function\n",
    "from ipywidgets import interact, interactive, fixed\n",
    "import ipywidgets as widgets\n",
    "\n",
    "\n",
    "def cobweb(f, x, y):\n",
    "    \"\"\"\n",
    "    Dibuja un diagrama de telaraña para una función.\n",
    "    \"\"\"\n",
    "    plt.axhline(linewidth=1.0, color=\"black\")\n",
    "    plt.axvline(linewidth=1.0, color=\"black\")\n",
    "    plt.ylim((y.min(),y.max()))\n",
    "    indep = np.linspace(x.min(), x.max(), len(x))\n",
    "        \n",
    "    # grafica la funcion \n",
    "    plt.plot(indep,f(indep),'blue')\n",
    "        \n",
    "    # grafica la diagonal\n",
    "    plt.plot(indep, indep, 'black')\n",
    "\n",
    "    # grafica la telaraña\n",
    "    y0 = f(x[0])\n",
    "    x0 = x[0]\n",
    "    for i in range(len(x)):\n",
    "        plt.hlines(y0, x0, y0,'r')\n",
    "        x0 = y0\n",
    "        y0 = f(x0)\n",
    "        plt.vlines(x0, x0, y0,'r')"
   ]
  },
  {
   "cell_type": "markdown",
   "metadata": {
    "deletable": true,
    "editable": true
   },
   "source": [
    "# La función\n",
    "\n",
    "Esta ecuación por Glass y Pasternack (1978) sirve para modelar redes neuronales y de interacción génica.\n",
    "\n",
    "$$x_{t+1}=\\frac{\\alpha x_{t}}{1+\\beta x_{t}}$$\n",
    "\n",
    "Donde $\\alpha$ y $\\beta$ son números positivos y $x_{t}\\geq0$."
   ]
  },
  {
   "cell_type": "code",
   "execution_count": 2,
   "metadata": {
    "collapsed": true,
    "deletable": true,
    "editable": true
   },
   "outputs": [],
   "source": [
    "def g(x, alpha, beta):\n",
    "    assert alpha >= 0 and beta >= 0\n",
    "    return (alpha*x)/(1 + (beta * x))"
   ]
  },
  {
   "cell_type": "code",
   "execution_count": 3,
   "metadata": {
    "collapsed": false,
    "deletable": true,
    "editable": true,
    "scrolled": true
   },
   "outputs": [
    {
     "data": {
      "text/plain": [
       "<function __main__.plot_cobg>"
      ]
     },
     "execution_count": 3,
     "metadata": {},
     "output_type": "execute_result"
    },
    {
     "data": {
      "image/png": "[encoded data removed]",
      "text/plain": [
       "<matplotlib.figure.Figure at 0x7f0c961f2a20>"
      ]
     },
     "metadata": {},
     "output_type": "display_data"
    }
   ],
   "source": [
    "def plot_cobg(x, alpha, beta):  \n",
    "    y = np.linspace(x[0],x[1],300)\n",
    "    g_y = g(y, alpha, beta)\n",
    "    cobweb(lambda x: g(x, alpha, beta), y, g_y)\n",
    "\n",
    "# configura gráfica interactiva\n",
    "interact(plot_cobg,\n",
    "         x=widgets.FloatRangeSlider(min=0.01, max=3, step=0.01,\n",
    "                                    value=[0.02, 3],\n",
    "                                    continuous_update=False),\n",
    "         alpha=widgets.FloatSlider(min=0.001, max=30,step=0.01,\n",
    "                                   value=12, continuous_update=False),\n",
    "         beta=widgets.FloatSlider(min=0.001, max=30,step=0.01,\n",
    "                                  value=7, continuous_update=False))"
   ]
  },
  {
   "cell_type": "markdown",
   "metadata": {
    "deletable": true,
    "editable": true
   },
   "source": [
    "# Búsqueda algebráica de puntos fijos\n",
    "\n",
    "A continuación sustituiremos f(x) en x reiteradamente hasta obtener la cuarta iterada de f."
   ]
  },
  {
   "cell_type": "code",
   "execution_count": 4,
   "metadata": {
    "collapsed": false,
    "deletable": true,
    "editable": true
   },
   "outputs": [
    {
     "data": {
      "image/png": "[encoded data removed]",
      "text/latex": [
       "$$f{\\left (x \\right )} = \\frac{\\alpha x}{\\beta x + 1}$$"
      ],
      "text/plain": [
       "         α⋅x  \n",
       "f(x) = ───────\n",
       "       β⋅x + 1"
      ]
     },
     "execution_count": 4,
     "metadata": {},
     "output_type": "execute_result"
    }
   ],
   "source": [
    "# primera iterada\n",
    "f0 = (alpha*x)/(1+beta*x)\n",
    "Eq(f(x),f0)"
   ]
  },
  {
   "cell_type": "code",
   "execution_count": 5,
   "metadata": {
    "collapsed": false,
    "deletable": true,
    "editable": true
   },
   "outputs": [
    {
     "data": {
      "image/png": "[encoded data removed]",
      "text/latex": [
       "$$f{\\left (f{\\left (x \\right )} \\right )} = \\frac{\\alpha^{2} x}{\\alpha \\beta x + \\beta x + 1}$$"
      ],
      "text/plain": [
       "                 2       \n",
       "                α ⋅x     \n",
       "f(f(x)) = ───────────────\n",
       "          α⋅β⋅x + β⋅x + 1"
      ]
     },
     "execution_count": 5,
     "metadata": {},
     "output_type": "execute_result"
    }
   ],
   "source": [
    "# segunda iterada\n",
    "\n",
    "# subs-tituye f0 en la x de f0 para generar f1\n",
    "f1 = simplify(f0.subs(x, f0))\n",
    "Eq(f(f(x)), f1)"
   ]
  },
  {
   "cell_type": "code",
   "execution_count": 6,
   "metadata": {
    "collapsed": false,
    "deletable": true,
    "editable": true,
    "scrolled": true
   },
   "outputs": [
    {
     "data": {
      "image/png": "[encoded data removed]",
      "text/latex": [
       "$$f{\\left (f{\\left (f{\\left (x \\right )} \\right )} \\right )} = \\frac{\\alpha^{4} x}{\\alpha^{3} \\beta x + \\alpha^{2} \\beta x + \\alpha \\beta x + \\beta x + 1}$$"
      ],
      "text/plain": [
       "                             4                \n",
       "                            α ⋅x              \n",
       "f(f(f(x))) = ─────────────────────────────────\n",
       "              3        2                      \n",
       "             α ⋅β⋅x + α ⋅β⋅x + α⋅β⋅x + β⋅x + 1"
      ]
     },
     "execution_count": 6,
     "metadata": {},
     "output_type": "execute_result"
    }
   ],
   "source": [
    "# tercera iterada\n",
    "f2 = simplify(f1.subs(x, f1))\n",
    "Eq(f(f(f(x))), f2)"
   ]
  },
  {
   "cell_type": "code",
   "execution_count": 7,
   "metadata": {
    "collapsed": false,
    "deletable": true,
    "editable": true
   },
   "outputs": [
    {
     "data": {
      "image/png": "[encoded data removed]",
      "text/latex": [
       "$$f{\\left (f{\\left (f{\\left (f{\\left (x \\right )} \\right )} \\right )} \\right )} = \\frac{\\alpha^{8} x}{\\alpha^{7} \\beta x + \\alpha^{6} \\beta x + \\alpha^{5} \\beta x + \\alpha^{4} \\beta x + \\alpha^{3} \\beta x + \\alpha^{2} \\beta x + \\alpha \\beta x + \\beta x + 1}$$"
      ],
      "text/plain": [
       "                                                  8                           \n",
       "                                                 α ⋅x                         \n",
       "f(f(f(f(x)))) = ──────────────────────────────────────────────────────────────\n",
       "                 7        6        5        4        3        2               \n",
       "                α ⋅β⋅x + α ⋅β⋅x + α ⋅β⋅x + α ⋅β⋅x + α ⋅β⋅x + α ⋅β⋅x + α⋅β⋅x + \n",
       "\n",
       "       \n",
       "       \n",
       "───────\n",
       "       \n",
       "β⋅x + 1"
      ]
     },
     "execution_count": 7,
     "metadata": {},
     "output_type": "execute_result"
    }
   ],
   "source": [
    "# cuarta iterada\n",
    "f3 = simplify(f2.subs(x, f2))\n",
    "Eq(f(f(f(f(x)))), f3)"
   ]
  },
  {
   "cell_type": "code",
   "execution_count": 8,
   "metadata": {
    "collapsed": false,
    "deletable": true,
    "editable": true,
    "scrolled": false
   },
   "outputs": [
    {
     "data": {
      "image/png": "[encoded data removed]",
      "text/latex": [
       "$$\\left\\{0, \\frac{1}{\\beta} \\left(\\alpha - 1\\right)\\right\\} \\setminus \\left\\{- \\frac{1}{\\beta \\left(\\alpha + 1\\right)}\\right\\}$$"
      ],
      "text/plain": [
       "⎧   α - 1⎫   ⎧   -1    ⎫\n",
       "⎨0, ─────⎬ \\ ⎨─────────⎬\n",
       "⎩     β  ⎭   ⎩β⋅(α + 1)⎭"
      ]
     },
     "execution_count": 8,
     "metadata": {},
     "output_type": "execute_result"
    }
   ],
   "source": [
    "# puntos fijos resolviendo la primera iterada\n",
    "solveset(Eq(f1,x),x)"
   ]
  },
  {
   "cell_type": "code",
   "execution_count": 9,
   "metadata": {
    "collapsed": false,
    "deletable": true,
    "editable": true,
    "scrolled": false
   },
   "outputs": [
    {
     "data": {
      "image/png": "[encoded data removed]",
      "text/latex": [
       "$$\\frac{1}{\\beta} \\left(\\alpha - 1\\right)$$"
      ],
      "text/plain": [
       "α - 1\n",
       "─────\n",
       "  β  "
      ]
     },
     "execution_count": 9,
     "metadata": {},
     "output_type": "execute_result"
    }
   ],
   "source": [
    "(alpha-1)/beta"
   ]
  },
  {
   "cell_type": "markdown",
   "metadata": {
    "deletable": true,
    "editable": true
   },
   "source": [
    "# Punto fijo oscilatorio\n",
    "\n",
    "Al configurar $$\\alpha, \\beta$$ de modo que haya un punto fijo la serie de tiempo revela una oscilación entre cero y el punto fijo."
   ]
  },
  {
   "cell_type": "code",
   "execution_count": 10,
   "metadata": {
    "collapsed": false,
    "deletable": true,
    "editable": true
   },
   "outputs": [
    {
     "name": "stdout",
     "output_type": "stream",
     "text": [
      "ultimos 15 de la serie:\n",
      "[2.0, 0.0, 2.0, 0.0, 2.0, 0.0, 2.0, 0.0, 2.0, 0.0, 2.0, 0.0, 2.0, 0.0, 2.0]\n",
      "\n",
      "puntos fijos:\n"
     ]
    },
    {
     "data": {
      "image/png": "[encoded data removed]",
      "text/latex": [
       "$$\\left\\{0, 2\\right\\}$$"
      ],
      "text/plain": [
       "{0, 2}"
      ]
     },
     "metadata": {},
     "output_type": "display_data"
    },
    {
     "data": {
      "text/plain": [
       "<function __main__.solve_g>"
      ]
     },
     "execution_count": 10,
     "metadata": {},
     "output_type": "execute_result"
    },
    {
     "data": {
      "image/png": "[encoded data removed]",
      "text/plain": [
       "<matplotlib.figure.Figure at 0x7f0c648d7ac8>"
      ]
     },
     "metadata": {},
     "output_type": "display_data"
    }
   ],
   "source": [
    "def solve_g(a, b):\n",
    "    y = list(np.linspace(0,float(list(solveset(Eq(f1.subs(alpha, a).subs(beta, b), x), x)).pop()),2))\n",
    "\n",
    "    for t in range(30):\n",
    "        y.append(g(y[t], a, b))\n",
    "    zoom = plt.plot(y)\n",
    "\n",
    "    print(\"ultimos 15 de la serie:\")\n",
    "    pprint(y[-15:])\n",
    "    print(\"\\npuntos fijos:\")\n",
    "    return solveset(Eq(f1.subs(alpha, a).subs(beta, b), x), x)\n",
    "    \n",
    "# gráfica interactiva\n",
    "interact(solve_g,\n",
    "         a=widgets.IntSlider(min=0, max=30, step=1,\n",
    "                             value=11, continuous_update=False,\n",
    "                             description='alpha'),\n",
    "         b=widgets.IntSlider(min=0, max=30, step=1,\n",
    "                             value=5, continuous_update=False,\n",
    "                             description='beta'))"
   ]
  },
  {
   "cell_type": "markdown",
   "metadata": {
    "deletable": true,
    "editable": true
   },
   "source": [
    "# ¿Qué pasará con infinitas iteraciones?\n",
    "\n",
    "Todo parece indicar que la función converge a 1 si $\\alpha=1$ y $\\beta=1$.\n",
    "\n",
    "Si no, converge a $\\frac{\\alpha}{\\beta}$"
   ]
  },
  {
   "cell_type": "code",
   "execution_count": 11,
   "metadata": {
    "collapsed": false,
    "deletable": true,
    "editable": true
   },
   "outputs": [
    {
     "data": {
      "image/png": "[encoded data removed]",
      "text/latex": [
       "$$\\frac{\\alpha^{8} x}{x \\left(\\alpha^{7} \\beta + \\alpha^{6} \\beta + \\alpha^{5} \\beta + \\alpha^{4} \\beta + \\alpha^{3} \\beta + \\alpha^{2} \\beta + \\alpha \\beta + \\beta\\right) + 1} = \\frac{x}{x + 1}$$"
      ],
      "text/plain": [
       "                            8                                    \n",
       "                           α ⋅x                               x  \n",
       "───────────────────────────────────────────────────────── = ─────\n",
       "  ⎛ 7      6      5      4      3      2            ⎞       x + 1\n",
       "x⋅⎝α ⋅β + α ⋅β + α ⋅β + α ⋅β + α ⋅β + α ⋅β + α⋅β + β⎠ + 1        "
      ]
     },
     "execution_count": 11,
     "metadata": {},
     "output_type": "execute_result"
    }
   ],
   "source": [
    "# con alfa=1 y beta=1\n",
    "Eq(collect(f3, x), x/(x+1))"
   ]
  },
  {
   "cell_type": "code",
   "execution_count": 12,
   "metadata": {
    "collapsed": false,
    "deletable": true,
    "editable": true
   },
   "outputs": [
    {
     "name": "stdout",
     "output_type": "stream",
     "text": [
      "(0.0, 1.0)\n"
     ]
    },
    {
     "data": {
      "text/plain": [
       "<function __main__.plot_g>"
      ]
     },
     "execution_count": 12,
     "metadata": {},
     "output_type": "execute_result"
    },
    {
     "data": {
      "image/png": "[encoded data removed]",
      "text/plain": [
       "<matplotlib.figure.Figure at 0x7f0c648486a0>"
      ]
     },
     "metadata": {},
     "output_type": "display_data"
    }
   ],
   "source": [
    "\n",
    "\n",
    "def plot_g(x, alpha, beta):\n",
    "    pprint(x)\n",
    "    y = np.linspace(x[0],x[1],300)\n",
    "    g_y = g(y, alpha, beta)\n",
    "    fig1 = plt.plot(y, g_y)\n",
    "    fig1 = plt.plot(y, y, color='red')\n",
    "    plt.axis('equal')\n",
    "\n",
    "interact(plot_g,\n",
    "         x=widgets.FloatRangeSlider(min=0, max=30, step=0.01, value=[0,1], continuous_update=False),\n",
    "         alpha=widgets.IntSlider(min=0,max=30,step=1,value=1, continuous_update=False),\n",
    "         beta=widgets.IntSlider(min=0,max=30,step=1,value=1, continuous_update=False))\n"
   ]
  }
 ],
 "metadata": {
  "kernelspec": {
   "display_name": "Python 3",
   "language": "python",
   "name": "python3"
  },
  "language_info": {
   "codemirror_mode": {
    "name": "ipython",
    "version": 3
   },
   "file_extension": ".py",
   "mimetype": "text/x-python",
   "name": "python",
   "nbconvert_exporter": "python",
   "pygments_lexer": "ipython3",
   "version": "3.4.2"
  },
  "widgets": {
   "state": {
    "775ddb98e29a45e78bfa59f84424e68c": {
     "views": [
      {
       "cell_index": 15
      }
     ]
    },
    "aa5ea9dab109475b8ffc4e9f14383830": {
     "views": [
      {
       "cell_index": 3
      }
     ]
    },
    "d43c5f91b98745b1a658dffef94ee132": {
     "views": [
      {
       "cell_index": 12
      }
     ]
    }
   },
   "version": "1.2.0"
  }
 },
 "nbformat": 4,
 "nbformat_minor": 1
}
