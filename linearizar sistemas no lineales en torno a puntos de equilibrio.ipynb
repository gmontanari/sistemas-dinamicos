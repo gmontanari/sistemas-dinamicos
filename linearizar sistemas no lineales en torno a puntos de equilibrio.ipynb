{
 "cells": [
  {
   "cell_type": "code",
   "execution_count": 1,
   "metadata": {
    "collapsed": true,
    "deletable": true,
    "editable": true
   },
   "outputs": [],
   "source": [
    "import numpy as np\n",
    "import matplotlib.pyplot as plt\n",
    "%matplotlib inline\n",
    "\n",
    "from sympy import *\n",
    "from sympy.matrices import *\n",
    "init_printing()"
   ]
  },
  {
   "cell_type": "markdown",
   "metadata": {
    "deletable": true,
    "editable": true
   },
   "source": [
    "## Este sistema lineal"
   ]
  },
  {
   "cell_type": "code",
   "execution_count": 2,
   "metadata": {
    "collapsed": false,
    "deletable": true,
    "editable": true
   },
   "outputs": [
    {
     "data": {
      "image/png": "[encoded data removed]",
      "text/latex": [
       "$$\\left[\\begin{matrix}1 & -4\\\\2 & -3\\end{matrix}\\right]$$"
      ],
      "text/plain": [
       "⎡1  -4⎤\n",
       "⎢     ⎥\n",
       "⎣2  -3⎦"
      ]
     },
     "execution_count": 2,
     "metadata": {},
     "output_type": "execute_result"
    }
   ],
   "source": [
    "b = symbols('b')\n",
    "b = Matrix([[1, -4], \n",
    "            [2, -3]])\n",
    "b"
   ]
  },
  {
   "cell_type": "markdown",
   "metadata": {
    "deletable": true,
    "editable": true
   },
   "source": [
    "## Eigenvalores y Eigenvectores"
   ]
  },
  {
   "cell_type": "code",
   "execution_count": 3,
   "metadata": {
    "collapsed": false,
    "deletable": true,
    "editable": true
   },
   "outputs": [
    {
     "data": {
      "image/png": "[encoded data removed]",
      "text/latex": [
       "$$\\left [ \\left ( -1 - 2 i, \\quad 1, \\quad \\left [ \\left[\\begin{matrix}\\frac{4}{2 + 2 i}\\\\1\\end{matrix}\\right]\\right ]\\right ), \\quad \\left ( -1 + 2 i, \\quad 1, \\quad \\left [ \\left[\\begin{matrix}\\frac{4}{2 - 2 i}\\\\1\\end{matrix}\\right]\\right ]\\right )\\right ]$$"
      ],
      "text/plain": [
       "⎡⎛             ⎡⎡   4   ⎤⎤⎞  ⎛             ⎡⎡   4   ⎤⎤⎞⎤\n",
       "⎢⎜-1 - 2⋅ⅈ, 1, ⎢⎢───────⎥⎥⎟, ⎜-1 + 2⋅ⅈ, 1, ⎢⎢───────⎥⎥⎟⎥\n",
       "⎢⎜             ⎢⎢2 + 2⋅ⅈ⎥⎥⎟  ⎜             ⎢⎢2 - 2⋅ⅈ⎥⎥⎟⎥\n",
       "⎢⎜             ⎢⎢       ⎥⎥⎟  ⎜             ⎢⎢       ⎥⎥⎟⎥\n",
       "⎣⎝             ⎣⎣   1   ⎦⎦⎠  ⎝             ⎣⎣   1   ⎦⎦⎠⎦"
      ]
     },
     "execution_count": 3,
     "metadata": {},
     "output_type": "execute_result"
    }
   ],
   "source": [
    "b.eigenvects()"
   ]
  },
  {
   "cell_type": "markdown",
   "metadata": {
    "deletable": true,
    "editable": true
   },
   "source": [
    "\n",
    "La matriz b por el vector [y1 y2] es igual a cualquier eigenvalor (e.g. $ -1 + 2i $) por [y1 y2].\n",
    "\n",
    "$$ \\left[\\begin{array}{cc}\n",
    "1 & -4\\\\\n",
    "2 & -3\n",
    "\\end{array}\\right]\\left[\\begin{array}{c}\n",
    "y_{1}\\\\\n",
    "y_{2}\n",
    "\\end{array}\\right]=-1+2i\\left[\\begin{array}{c}\n",
    "y_{1}\\\\\n",
    "y_{2}\n",
    "\\end{array}\\right] $$\n",
    "\n",
    "De ahí se despeja este sistema de ecuaciones redundantes:\n",
    "\n",
    "$$ (-1 + 2i)y_1 - (y_1 - 4y_2)=0 $$\n",
    "\n",
    "y\n",
    "\n",
    "$$ (-1 + 2i)y_2 - (2y_1 - 3y_2)=0 $$\n",
    "\n",
    "Despejando $ y_2 $ en una y otra: "
   ]
  },
  {
   "cell_type": "code",
   "execution_count": 4,
   "metadata": {
    "collapsed": false,
    "deletable": true,
    "editable": true,
    "scrolled": true
   },
   "outputs": [
    {
     "data": {
      "image/png": "[encoded data removed]",
      "text/latex": [
       "$$\\left [ y_{2} + i y_{2}\\right ]$$"
      ],
      "text/plain": [
       "[y₂ + ⅈ⋅y₂]"
      ]
     },
     "execution_count": 4,
     "metadata": {},
     "output_type": "execute_result"
    }
   ],
   "source": [
    "y1, y2 = symbols(\"y1 y2\")\n",
    "solve(((-1 + 2j) * y1) - (y1 - 4 * y2),\n",
    "      y1)"
   ]
  },
  {
   "cell_type": "code",
   "execution_count": 5,
   "metadata": {
    "collapsed": false,
    "deletable": true,
    "editable": true
   },
   "outputs": [
    {
     "data": {
      "image/png": "[encoded data removed]",
      "text/latex": [
       "$$\\left [ 0.5 y_{1} - 0.5 i y_{1}\\right ]$$"
      ],
      "text/plain": [
       "[0.5⋅y₁ - 0.5⋅ⅈ⋅y₁]"
      ]
     },
     "execution_count": 5,
     "metadata": {},
     "output_type": "execute_result"
    }
   ],
   "source": [
    "solve(((-1 + 2j) * y2) - (2 * y1 - 3 * y2),\n",
    "      y2)"
   ]
  },
  {
   "cell_type": "markdown",
   "metadata": {
    "deletable": true,
    "editable": true
   },
   "source": [
    "## Sistema de ecuaciones para graficar el campo de vectores"
   ]
  },
  {
   "cell_type": "code",
   "execution_count": 6,
   "metadata": {
    "collapsed": false,
    "deletable": true,
    "editable": true
   },
   "outputs": [
    {
     "data": {
      "image/png": "[encoded data removed]",
      "text/latex": [
       "$$\\left[\\begin{matrix}x - 4 y\\\\2 x - 3 y\\end{matrix}\\right]$$"
      ],
      "text/plain": [
       "⎡ x - 4⋅y ⎤\n",
       "⎢         ⎥\n",
       "⎣2⋅x - 3⋅y⎦"
      ]
     },
     "execution_count": 6,
     "metadata": {},
     "output_type": "execute_result"
    }
   ],
   "source": [
    "x, y = symbols(\"x y\")\n",
    "b * Matrix([x, y])"
   ]
  },
  {
   "cell_type": "code",
   "execution_count": 7,
   "metadata": {
    "collapsed": false,
    "deletable": true,
    "editable": true
   },
   "outputs": [
    {
     "data": {
      "image/png": "[encoded data removed]",
      "text/plain": [
       "<matplotlib.figure.Figure at 0x7f8c56905f28>"
      ]
     },
     "metadata": {},
     "output_type": "display_data"
    }
   ],
   "source": [
    "x, y = np.meshgrid(np.linspace(-40, 40, 14),\n",
    "                   np.linspace(-40, 40, 14))\n",
    "\n",
    "u = x - 4 * y\n",
    "v = 2 * x - 3 * y\n",
    "\n",
    "plt.quiver(x, y, u, v)\n",
    "plt.show()"
   ]
  }
 ],
 "metadata": {
  "kernelspec": {
   "display_name": "Python 3",
   "language": "python",
   "name": "python3"
  },
  "language_info": {
   "codemirror_mode": {
    "name": "ipython",
    "version": 3
   },
   "file_extension": ".py",
   "mimetype": "text/x-python",
   "name": "python",
   "nbconvert_exporter": "python",
   "pygments_lexer": "ipython3",
   "version": "3.4.2"
  }
 },
 "nbformat": 4,
 "nbformat_minor": 1
}
