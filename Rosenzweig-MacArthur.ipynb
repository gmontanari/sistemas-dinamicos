{
 "cells": [
  {
   "cell_type": "markdown",
   "metadata": {
    "deletable": true,
    "editable": true
   },
   "source": [
    "# Modelo Rosenzweig-MacArthur\n",
    "\n",
    "Un modelo razonable para las poblaciones de presas y depredadores a través del tiempo, considerando su interacción, podría tener esta forma:\n",
    "\n",
    "$\\dot{x}=$ tasa de nacimiento - tasa de muertes no debidas a $ y $ - tasa de muertes por depredación\n",
    "\n",
    "$\\dot{y}=$ tasa de reproducción - tasa de mortalidad\n",
    "\n",
    "Donde $ x $ representa la densidad de presas (número de presas por unidad de área), y $ y $ la densidad de depredadores (número de depredadores por unidad de área).\n",
    "\n",
    "Un modelo cualquiera es una elección de cómo computar estas tasas, así lo abstrae el modelo de **Rosenzweig-McArthur**:\n",
    "\n",
    "$$\\dot{x}=f(x)-\\phi(x,y)$$\n",
    "\n",
    "$$\\dot{y}=-ey+k\\phi(x,y)$$\n",
    "\n",
    "Donde $f(x)$ es la tasa de cambio de $x$ cuando no hay depredación, $\\phi(x, y)$ es la tasa de depredación, $ k $ la eficiencia con la que los depredadores asimilan a las presas y \n",
    "$ e $ la tasa de muertes del depredador ($ e, k>0 $).\n",
    "\n",
    "La tasa de cambio de $ x $ (nacimientos y muertes de presas) podría modelarse como crecimiento Maltusiano $f(x)=\\frac{dx}{dt}=rx\\left(1-\\frac{x}{K}\\right)$, donde la tasa de reproducción es proporcional tanto al tamaño de la población actual como a la cantidad de recursos disponible ($ r,K>0 $). \n",
    "\n",
    "Si se asume que la tasa de muertes del depredador es lineal y su densidad no es tal que se interfieran entre sí para cazar, entonces sólo la cantidad de presas limita la población de depredadores. \n",
    "\n",
    "$$\\dot{x}=rx\\left(1-\\frac{x}{K}\\right)-y\\phi(x)$$\n",
    "\n",
    "$$\\dot{y}=-ey+ky\\phi(x)$$\n",
    "\n",
    "$\\phi(x)$ es la cantidad de presas atrapadas por depredador por unidad de tiempo, en función de la densidad de presas."
   ]
  },
  {
   "cell_type": "code",
   "execution_count": 1,
   "metadata": {
    "collapsed": true,
    "deletable": true,
    "editable": true
   },
   "outputs": [],
   "source": [
    "# cómputo simbólico con sympy\n",
    "from sympy import *\n",
    "init_printing()\n",
    "\n",
    "# definimos qué variables usar como símbolos\n",
    "x, y, e, phi, f, k, r, K = symbols('x y e phi f k r K')"
   ]
  },
  {
   "cell_type": "code",
   "execution_count": 2,
   "metadata": {
    "collapsed": false,
    "deletable": true,
    "editable": true
   },
   "outputs": [
    {
     "data": {
      "image/png": "[encoded data removed]",
      "text/latex": [
       "$$r x \\left(1 - \\frac{x}{K}\\right) - y \\phi{\\left (x \\right )}$$"
      ],
      "text/plain": [
       "    ⎛    x⎞         \n",
       "r⋅x⋅⎜1 - ─⎟ - y⋅φ(x)\n",
       "    ⎝    K⎠         "
      ]
     },
     "execution_count": 2,
     "metadata": {},
     "output_type": "execute_result"
    }
   ],
   "source": [
    "dx = r*x*(1-x/K) - y*phi(x)\n",
    "dx"
   ]
  },
  {
   "cell_type": "code",
   "execution_count": 3,
   "metadata": {
    "collapsed": false,
    "deletable": true,
    "editable": true,
    "scrolled": true
   },
   "outputs": [
    {
     "data": {
      "image/png": "[encoded data removed]",
      "text/latex": [
       "$$- e y + k y \\phi{\\left (x \\right )}$$"
      ],
      "text/plain": [
       "-e⋅y + k⋅y⋅φ(x)"
      ]
     },
     "execution_count": 3,
     "metadata": {},
     "output_type": "execute_result"
    }
   ],
   "source": [
    "dy = -e*y + k*y*phi(x)\n",
    "dy"
   ]
  },
  {
   "cell_type": "markdown",
   "metadata": {
    "deletable": true,
    "editable": true
   },
   "source": [
    "## Tasa de depredación según Holling\n",
    "\n",
    "Lo esencial es que la tasa de depredación esté en función sólo de la densidad de presas. [Este artículo](https://math.la.asu.edu/~halsmith/Rosenzweig.pdf) discute la creación de tal función considerando el promedio de presas atrapadas a lo largo de un lapso extendido. El argumento $a$ modela el tiempo que le toma al depredador encontrar una presa, mientras que $b$ modela cuánto tiempo le toma atraparla, comérsela, digerirla, dormir la siesta, y empezar a acechar nuevamente.\n",
    "\n",
    "$$\\phi(x)=\\frac{ax}{1+bx}$$"
   ]
  },
  {
   "cell_type": "code",
   "execution_count": 4,
   "metadata": {
    "collapsed": false,
    "deletable": true,
    "editable": true
   },
   "outputs": [
    {
     "data": {
      "image/png": "[encoded data removed]",
      "text/latex": [
       "$$\\frac{a x}{b x + 1}$$"
      ],
      "text/plain": [
       "  a⋅x  \n",
       "───────\n",
       "b⋅x + 1"
      ]
     },
     "execution_count": 4,
     "metadata": {},
     "output_type": "execute_result"
    }
   ],
   "source": [
    "a, b = symbols('a b')\n",
    "phi_holling = a*x / (1 + b*x)\n",
    "phi_holling"
   ]
  },
  {
   "cell_type": "code",
   "execution_count": 5,
   "metadata": {
    "collapsed": true,
    "deletable": true,
    "editable": true
   },
   "outputs": [],
   "source": [
    "# importamos bibliotecas para plotear\n",
    "import matplotlib\n",
    "import matplotlib.pyplot as plt\n",
    "%matplotlib inline\n",
    "import numpy as np\n",
    "\n",
    "# convertimos los símbolos de phi_holling en función ejecutable\n",
    "phi_holling = lambdify((x, a, b), phi_holling)"
   ]
  },
  {
   "cell_type": "markdown",
   "metadata": {
    "deletable": true,
    "editable": true
   },
   "source": [
    "Con un tiempo para encontrar presa de 20 unidades y un tiempo para consumirlas de 9 encontramos una curva parecida a la del [artículo de Hal L Smith](https://math.la.asu.edu/~halsmith/Rosenzweig.pdf)."
   ]
  },
  {
   "cell_type": "code",
   "execution_count": 6,
   "metadata": {
    "collapsed": false,
    "deletable": true,
    "editable": true,
    "scrolled": true
   },
   "outputs": [
    {
     "data": {
      "image/png": "[encoded data removed]",
      "text/plain": [
       "<matplotlib.figure.Figure at 0x7f60f6377d30>"
      ]
     },
     "metadata": {},
     "output_type": "display_data"
    }
   ],
   "source": [
    "t_encontrar = 20\n",
    "t_consumir = 9\n",
    "\n",
    "presas = np.linspace(0, 3.5, 100)\n",
    "\n",
    "# computamos depredaciones para un rango de densidades de presas\n",
    "depredaciones = [phi_holling(n, \n",
    "                             t_encontrar,\n",
    "                             t_consumir) \n",
    "                 for n in presas]\n",
    "\n",
    "fig = plt.plot(presas, depredaciones)"
   ]
  },
  {
   "cell_type": "markdown",
   "metadata": {
    "deletable": true,
    "editable": true
   },
   "source": [
    "## Otra tasa de depredación\n",
    "\n",
    "Una curva parecida a la de Holling se obtiene \"saturando\" de presas el área que ocupa un depredador.\n",
    "\n",
    "$$\\phi(x)=x^{\\frac{1}{k}}+\\left(1-\\frac{1}{k}\\right)$$\n",
    "\n",
    "Donde $k$ representa la saturación."
   ]
  },
  {
   "cell_type": "code",
   "execution_count": 7,
   "metadata": {
    "collapsed": false,
    "deletable": true,
    "editable": true
   },
   "outputs": [
    {
     "data": {
      "image/png": "[encoded data removed]",
      "text/latex": [
       "$$x^{\\frac{1}{k}} + 1 - \\frac{1}{k}$$"
      ],
      "text/plain": [
       "k ___       1\n",
       "╲╱ x  + 1 - ─\n",
       "            k"
      ]
     },
     "execution_count": 7,
     "metadata": {},
     "output_type": "execute_result"
    }
   ],
   "source": [
    "phi_garcia = x**(1/k)+(1-1/k)\n",
    "phi_garcia"
   ]
  },
  {
   "cell_type": "code",
   "execution_count": 8,
   "metadata": {
    "collapsed": false,
    "deletable": true,
    "editable": true
   },
   "outputs": [
    {
     "data": {
      "image/png": "[encoded data removed]",
      "text/plain": [
       "<matplotlib.figure.Figure at 0x7f60f433ea20>"
      ]
     },
     "metadata": {},
     "output_type": "display_data"
    }
   ],
   "source": [
    "phi_garcia = lambdify((x, k), phi_garcia)\n",
    "presas = np.linspace(0, 3.5, 100)\n",
    "depredaciones = [phi_garcia(n, 4) for n in presas]\n",
    "fig = plt.plot(presas, depredaciones)"
   ]
  }
 ],
 "metadata": {
  "kernelspec": {
   "display_name": "Python 3",
   "language": "python",
   "name": "python3"
  },
  "language_info": {
   "codemirror_mode": {
    "name": "ipython",
    "version": 3
   },
   "file_extension": ".py",
   "mimetype": "text/x-python",
   "name": "python",
   "nbconvert_exporter": "python",
   "pygments_lexer": "ipython3",
   "version": "3.4.2"
  }
 },
 "nbformat": 4,
 "nbformat_minor": 2
}
