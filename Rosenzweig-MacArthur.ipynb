{
 "cells": [
  {
   "cell_type": "markdown",
   "metadata": {},
   "source": [
    "# Modelo Rosenzweig-MacArthur\n",
    "\n",
    "Un modelo razonable para las poblaciones de presas y depredadores a través del tiempo, considerando su interacción, podría tener esta forma:\n",
    "\n",
    "$\\dot{x}=$ tasa de nacimiento - tasa de muertes no debidas a $ y $ - tasa de muertes por depredación\n",
    "\n",
    "$\\dot{y}=$ tasa de reproducción - tasa de mortalidad\n",
    "\n",
    "Donde $ x $ representa la densidad de presas (número de presas por unidad de área), y $ y $ la densidad de depredadores (número de depredadores por unidad de área).\n",
    "\n",
    "Un modelo cualquiera es una elección de cómo computar estas tasas, así lo abstrae el modelo de **Rosenzweig-McArthur**:\n",
    "\n",
    "$$ \\begin{array}{c}\n",
    "\\dot{x}=f(x)-\\phi(x,y)\\\\\n",
    "\\dot{y}=-ey+k\\phi(x,y)\n",
    "\\end{array} $$\n",
    "\n",
    "Donde $ f(x) $ es la tasa de cambio de $ x $ cuando no hay depredación, $ \\phi(x,y) $ es la tasa de depredación, $ k $ la eficiencia con la que los depredadores asimilan a las presas y $ e $ la tasa de muertes del depredador ($ e, k>0 $).\n",
    "\n",
    "La tasa de cambio de $ x $ (nacimientos y muertes de presas) podría modelarse como crecimiento Maltusiano $f(x)=\\frac{dx}{dt}=rx\\left(1-\\frac{x}{K}\\right)$, donde la tasa de reproducción es proporcional tanto al tamaño de la población actual como a la cantidad de recursos disponible ($ r,K>0 $). \n",
    "\n",
    "Si se asume que la tasa de muertes del depredador es lineal y su densidad no es tal que se interfieran entre sí para cazar, entonces sólo la cantidad de presas limita la población de depredadores. \n",
    "\n",
    "$$ \\dot{x}=rx\\left(1-\\frac{x}{K}\\right)-y\\phi(x) $$\n",
    "\n",
    "$$ \\dot{y}=-ey+ky\\phi(x) $$\n",
    "\n",
    "$ \\phi(x) $ es la cantidad de presas atrapadas por depredador por unidad de tiempo, en función de la densidad de presas."
   ]
  },
  {
   "cell_type": "code",
   "execution_count": 12,
   "metadata": {},
   "outputs": [],
   "source": [
    "# cómputo simbólico con sympy\n",
    "from sympy import *\n",
    "init_printing()\n",
    "\n",
    "# definimos qué variables usar como símbolos\n",
    "x, y, e, phi, f, k = symbols('x y e phi f k')"
   ]
  },
  {
   "cell_type": "code",
   "execution_count": 7,
   "metadata": {},
   "outputs": [
    {
     "data": {
      "image/png": "[encoded data removed]",
      "text/latex": [
       "$$- y \\phi{\\left (x \\right )} + f{\\left (x \\right )}$$"
      ],
      "text/plain": [
       "-y⋅φ(x) + f(x)"
      ]
     },
     "execution_count": 7,
     "metadata": {},
     "output_type": "execute_result"
    }
   ],
   "source": [
    "dx = f(x) - y*phi(x)\n",
    "dx"
   ]
  },
  {
   "cell_type": "code",
   "execution_count": 11,
   "metadata": {
    "scrolled": true
   },
   "outputs": [
    {
     "data": {
      "image/png": "[encoded data removed]",
      "text/latex": [
       "$$- e y + k y \\phi{\\left (x \\right )}$$"
      ],
      "text/plain": [
       "-e⋅y + k⋅y⋅φ(x)"
      ]
     },
     "execution_count": 11,
     "metadata": {},
     "output_type": "execute_result"
    }
   ],
   "source": [
    "dy = -e*y + k*y*phi(x)\n",
    "dy"
   ]
  },
  {
   "cell_type": "code",
   "execution_count": 23,
   "metadata": {},
   "outputs": [],
   "source": [
    "import numpy as np\n",
    "\n",
    "def fi(x, a, b):\n",
    "    return a*x / (1 + b*x)"
   ]
  },
  {
   "cell_type": "code",
   "execution_count": 63,
   "metadata": {},
   "outputs": [
    {
     "data": {
      "text/plain": [
       "[<matplotlib.lines.Line2D at 0x7faf7c46cb70>]"
      ]
     },
     "execution_count": 63,
     "metadata": {},
     "output_type": "execute_result"
    },
    {
     "data": {
      "image/png": "[encoded data removed]",
      "text/plain": [
       "<Figure size 432x288 with 1 Axes>"
      ]
     },
     "metadata": {},
     "output_type": "display_data"
    }
   ],
   "source": [
    "# importamos bibliotecas para plotear\n",
    "import matplotlib\n",
    "import matplotlib.pyplot as plt\n",
    "%matplotlib inline\n",
    "\n",
    "X = np.linspace(0, 3.5, 130)\n",
    "t = [fi(n, a=10, b=4.5) for n in X]\n",
    "plt.plot(X, t)"
   ]
  },
  {
   "cell_type": "code",
   "execution_count": 72,
   "metadata": {},
   "outputs": [],
   "source": [
    "def fee(x, sat):\n",
    "    return x**(1/sat)"
   ]
  },
  {
   "cell_type": "code",
   "execution_count": 78,
   "metadata": {},
   "outputs": [
    {
     "data": {
      "text/plain": [
       "[<matplotlib.lines.Line2D at 0x7faf7c202c50>]"
      ]
     },
     "execution_count": 78,
     "metadata": {},
     "output_type": "execute_result"
    },
    {
     "data": {
      "image/png": "[encoded data removed]",
      "text/plain": [
       "<Figure size 432x288 with 1 Axes>"
      ]
     },
     "metadata": {},
     "output_type": "display_data"
    }
   ],
   "source": [
    "X = np.linspace(0, 3.5, 130)\n",
    "t = [fee(n, sat=3) for n in X]\n",
    "plt.plot(X, t)"
   ]
  }
 ],
 "metadata": {
  "kernelspec": {
   "display_name": "Python 3",
   "language": "python",
   "name": "python3"
  },
  "language_info": {
   "codemirror_mode": {
    "name": "ipython",
    "version": 3
   },
   "file_extension": ".py",
   "mimetype": "text/x-python",
   "name": "python",
   "nbconvert_exporter": "python",
   "pygments_lexer": "ipython3",
   "version": "3.4.2"
  }
 },
 "nbformat": 4,
 "nbformat_minor": 2
}
