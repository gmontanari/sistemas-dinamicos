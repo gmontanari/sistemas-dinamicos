{
 "cells": [
  {
   "cell_type": "markdown",
   "metadata": {},
   "source": [
    "# Modelo Rosenzweig-MacArthur\n",
    "\n",
    "Un modelo razonable para las poblaciones de presas y depredadores a través del tiempo, considerando su interacción, podría tener esta forma:\n",
    "\n",
    "$\\dot{x}=$ tasa de nacimiento - tasa de muertes no debidas a $ y $ - tasa de muertes por depredación\n",
    "\n",
    "$\\dot{y}=$ tasa de reproducción - tasa de mortalidad\n",
    "\n",
    "Donde $ x $ representa la densidad de presas (número de presas por unidad de área), y $ y $ la densidad de depredadores (número de depredadores por unidad de área).\n",
    "\n",
    "Un modelo cualquiera es una elección de cómo computar estas tasas, así lo abstrae el modelo de **Rosenzweig-McArthur**:\n",
    "\n",
    "$$\\dot{x}=f(x)-\\phi(x,y)$$\n",
    "\n",
    "$$\\dot{y}=-ey+k\\phi(x,y)$$\n",
    "\n",
    "Donde $f(x)$ es la tasa de cambio de $x$ cuando no hay depredación, $\\phi(x, y)$ es la tasa de depredación, $ k $ la eficiencia con la que los depredadores asimilan a las presas y \n",
    "$ e $ la tasa de muertes del depredador ($ e, k>0 $)."
   ]
  },
  {
   "cell_type": "code",
   "execution_count": 2,
   "metadata": {},
   "outputs": [],
   "source": [
    "# Para hacer experimentos numéricos importamos numpy\n",
    "import numpy as np\n",
    "\n",
    "# y biblioteca para plotear\n",
    "import matplotlib\n",
    "import matplotlib.pyplot as plt\n",
    "%matplotlib inline\n",
    "\n",
    "# cómputo simbólico con sympy\n",
    "from sympy import *\n",
    "init_printing()\n",
    "\n",
    "# definimos qué variables usar como símbolos\n",
    "x, y, e, phi, f, k, r, K = symbols('x y e phi f k r K')"
   ]
  },
  {
   "cell_type": "markdown",
   "metadata": {},
   "source": [
    "## Tasa de cambio de la población de presas\n",
    "\n",
    "La tasa de cambio de $ x $ (nacimientos y muertes de presas) podría modelarse como crecimiento Maltusiano $f(x)=\\frac{dx}{dt}=rx\\left(1-\\frac{x}{K}\\right)$, donde la tasa de reproducción es proporcional tanto al tamaño de la población actual como a la cantidad de recursos disponible ($ r,K>0 $). "
   ]
  },
  {
   "cell_type": "code",
   "execution_count": 3,
   "metadata": {},
   "outputs": [
    {
     "data": {
      "image/png": "[encoded data removed]",
      "text/latex": [
       "$$r x \\left(1 - \\frac{x}{K}\\right)$$"
      ],
      "text/plain": [
       "    ⎛    x⎞\n",
       "r⋅x⋅⎜1 - ─⎟\n",
       "    ⎝    K⎠"
      ]
     },
     "execution_count": 3,
     "metadata": {},
     "output_type": "execute_result"
    }
   ],
   "source": [
    "malthusian = r*x*(1-x/K)\n",
    "malthusian"
   ]
  },
  {
   "cell_type": "code",
   "execution_count": 4,
   "metadata": {},
   "outputs": [
    {
     "data": {
      "image/png": "[encoded data removed]",
      "text/plain": [
       "<Figure size 432x288 with 1 Axes>"
      ]
     },
     "metadata": {},
     "output_type": "display_data"
    }
   ],
   "source": [
    "F = lambdify((x, r, K), malthusian)\n",
    "pop = np.zeros(100)\n",
    "\n",
    "# población inicial\n",
    "pop[0] = 1\n",
    "reproduccion = 0.1\n",
    "capacidad = 200\n",
    "\n",
    "# sumamos población en cada t\n",
    "for t in range(99):\n",
    "    pop[t+1] = pop[t] + F(pop[t], \n",
    "                          reproduccion,\n",
    "                          capacidad)\n",
    "    \n",
    "plt.xlabel(\"tiempo\")\n",
    "plt.ylabel(\"población de presas sin depredación\")\n",
    "fig = plt.plot(pop)"
   ]
  },
  {
   "cell_type": "markdown",
   "metadata": {},
   "source": [
    "## Tasa de cambio de la población de depredadores\n",
    "Si se asume que la tasa de muertes del depredador es lineal y su densidad no es tal que se interfieran entre sí para cazar, entonces sólo la cantidad de presas limita la población de depredadores. \n",
    "\n",
    "$$\\dot{x}=f(x)-y\\phi(x)$$\n",
    "\n",
    "$$\\dot{y}=-ey+ky\\phi(x)$$\n",
    "\n",
    "$\\phi(x)$ es la cantidad de presas atrapadas por depredador por unidad de tiempo, en función de la densidad de presas."
   ]
  },
  {
   "cell_type": "markdown",
   "metadata": {},
   "source": [
    "### Tasa de depredación según Holling\n",
    "\n",
    "Lo esencial es que la tasa de depredación esté en función sólo de la densidad de presas. [Este artículo](https://math.la.asu.edu/~halsmith/Rosenzweig.pdf) discute la creación de tal función considerando el promedio de presas atrapadas a lo largo de un lapso extendido. El argumento $a$ modela el tiempo que le toma al depredador encontrar una presa, mientras que $b$ modela cuánto tiempo le toma atraparla, comérsela, digerirla, dormir la siesta, y empezar a acechar nuevamente.\n",
    "\n",
    "$$\\phi(x)=\\frac{ax}{1+bx}$$"
   ]
  },
  {
   "cell_type": "code",
   "execution_count": 5,
   "metadata": {},
   "outputs": [
    {
     "data": {
      "image/png": "[encoded data removed]",
      "text/latex": [
       "$$\\frac{a x}{b x + 1}$$"
      ],
      "text/plain": [
       "  a⋅x  \n",
       "───────\n",
       "b⋅x + 1"
      ]
     },
     "execution_count": 5,
     "metadata": {},
     "output_type": "execute_result"
    }
   ],
   "source": [
    "a, b = symbols('a b')\n",
    "phi_holling = a*x / (1 + b*x)\n",
    "phi_holling"
   ]
  },
  {
   "cell_type": "code",
   "execution_count": 6,
   "metadata": {},
   "outputs": [],
   "source": [
    "# convertimos los símbolos de phi_holling en función ejecutable\n",
    "phi_holling = lambdify((x, a, b), phi_holling)"
   ]
  },
  {
   "cell_type": "markdown",
   "metadata": {},
   "source": [
    "Con un tiempo para encontrar presa de 20 unidades y un tiempo para consumirlas de 9 encontramos una curva parecida a la del [artículo de Hal L Smith](https://math.la.asu.edu/~halsmith/Rosenzweig.pdf)."
   ]
  },
  {
   "cell_type": "code",
   "execution_count": 7,
   "metadata": {
    "scrolled": false
   },
   "outputs": [
    {
     "data": {
      "image/png": "[encoded data removed]",
      "text/plain": [
       "<Figure size 432x288 with 1 Axes>"
      ]
     },
     "metadata": {},
     "output_type": "display_data"
    }
   ],
   "source": [
    "t_encontrar = 20\n",
    "t_consumir = 9\n",
    "\n",
    "presas = np.linspace(0, 3.5, 100)\n",
    "\n",
    "# computamos depredaciones para un rango de densidades de presas\n",
    "depredaciones = [phi_holling(n, \n",
    "                             t_encontrar,\n",
    "                             t_consumir) \n",
    "                 for n in presas]\n",
    "\n",
    "plt.xlabel(\"densidad de presas\")\n",
    "plt.ylabel(\"tasa de depredación\")\n",
    "fig = plt.plot(presas, depredaciones)"
   ]
  },
  {
   "cell_type": "markdown",
   "metadata": {},
   "source": [
    "## Otra tasa de depredación\n",
    "\n",
    "Una curva parecida a la de Holling se obtiene \"saturando\" de presas el área que ocupa un depredador.\n",
    "\n",
    "$$\\phi(x)=x^{\\frac{1}{k}}+\\left(1-\\frac{1}{k}\\right)$$\n",
    "\n",
    "Donde $k$ representa la saturación."
   ]
  },
  {
   "cell_type": "code",
   "execution_count": 200,
   "metadata": {},
   "outputs": [
    {
     "data": {
      "image/png": "[encoded data removed]",
      "text/latex": [
       "$$x^{\\frac{1}{c}} + 1 - \\frac{1}{c}$$"
      ],
      "text/plain": [
       "c ___       1\n",
       "╲╱ x  + 1 - ─\n",
       "            c"
      ]
     },
     "execution_count": 200,
     "metadata": {},
     "output_type": "execute_result"
    }
   ],
   "source": [
    "c = symbols('c')\n",
    "phi_garcia = x**(1/c)+(1-1/c)\n",
    "phi_garcia"
   ]
  },
  {
   "cell_type": "code",
   "execution_count": 201,
   "metadata": {},
   "outputs": [
    {
     "data": {
      "image/png": "[encoded data removed]",
      "text/plain": [
       "<Figure size 432x288 with 1 Axes>"
      ]
     },
     "metadata": {},
     "output_type": "display_data"
    }
   ],
   "source": [
    "saturacion = 4\n",
    "phi_garcia = lambdify((x, c), phi_garcia)\n",
    "presas = np.linspace(0, 3.5, 100)\n",
    "depredaciones = [phi_garcia(n, saturacion) for n in presas]\n",
    "plt.xlabel(\"densidad de presas\")\n",
    "plt.ylabel(\"tasa de depredación\")\n",
    "fig = plt.plot(presas, depredaciones)"
   ]
  },
  {
   "cell_type": "markdown",
   "metadata": {},
   "source": [
    "## Interacción de ambas poblaciones\n",
    "\n",
    "Sustituyendo $f(x)$ por la dinámica malthusiana y $\\phi(x)$ por el modello de Holling, el sistema de ecuaciones toma esta forma:\n",
    "\n",
    "$$\\dot{x}=rx\\left(1-\\frac{x}{K}\\right)-y\\frac{ax}{1+bx}$$\n",
    "\n",
    "$$\\dot{y}=-ey+ky\\frac{ax}{1+bx}$$\n"
   ]
  },
  {
   "cell_type": "code",
   "execution_count": 212,
   "metadata": {},
   "outputs": [],
   "source": [
    "# coeficientes de la presa\n",
    "r = 0.1  # tasa de reproducción, eficiencia de recursos\n",
    "K = 100  # capacidad de carga\n",
    "\n",
    "# coeficientes del depredador\n",
    "#a = 2  # tiempo para encontrar presas\n",
    "#b = 1   # tiempo para consumirlas\n",
    "e = 0.09  # tasa de mortalidad\n",
    "c = 3  # saturación"
   ]
  },
  {
   "cell_type": "code",
   "execution_count": 213,
   "metadata": {},
   "outputs": [
    {
     "data": {
      "image/png": "[encoded data removed]",
      "text/latex": [
       "$$- x^{0.333333333333333} y + 0.1 x \\left(- \\frac{x}{100} + 1\\right) + 0.666666666666667$$"
      ],
      "text/plain": [
       "   0.333333333333333           ⎛   x     ⎞                    \n",
       "- x                 ⋅y + 0.1⋅x⋅⎜- ─── + 1⎟ + 0.666666666666667\n",
       "                               ⎝  100    ⎠                    "
      ]
     },
     "execution_count": 213,
     "metadata": {},
     "output_type": "execute_result"
    }
   ],
   "source": [
    "f = r*x*(1-x/K) - y * x**(1/c)+(1-1/c)\n",
    "f"
   ]
  },
  {
   "cell_type": "code",
   "execution_count": 214,
   "metadata": {
    "scrolled": false
   },
   "outputs": [
    {
     "data": {
      "image/png": "[encoded data removed]",
      "text/latex": [
       "$$4 x^{0.333333333333333} y - 0.09 y + 0.666666666666667$$"
      ],
      "text/plain": [
       "   0.333333333333333                               \n",
       "4⋅x                 ⋅y - 0.09⋅y + 0.666666666666667"
      ]
     },
     "execution_count": 214,
     "metadata": {},
     "output_type": "execute_result"
    }
   ],
   "source": [
    "g = -e*y + (k * y) * x**(1/c)+(1-1/c)\n",
    "g"
   ]
  },
  {
   "cell_type": "markdown",
   "metadata": {},
   "source": [
    "### Equilibrios"
   ]
  },
  {
   "cell_type": "code",
   "execution_count": 215,
   "metadata": {},
   "outputs": [
    {
     "data": {
      "image/png": "[encoded data removed]",
      "text/latex": [
       "$$\\left [ -6.27314338711377, \\quad 106.273143387114\\right ]$$"
      ],
      "text/plain": [
       "[-6.27314338711377, 106.273143387114]"
      ]
     },
     "execution_count": 215,
     "metadata": {},
     "output_type": "execute_result"
    }
   ],
   "source": [
    "M = solve(f, y)[0]\n",
    "solve(M.subs({x: solve(g, x)}))"
   ]
  },
  {
   "cell_type": "code",
   "execution_count": 216,
   "metadata": {},
   "outputs": [
    {
     "data": {
      "image/png": "[encoded data removed]",
      "text/latex": [
       "$$\\left [ - \\frac{200.0}{1200.0 x^{0.333333333333333} - 27.0}\\right ]$$"
      ],
      "text/plain": [
       "⎡            -200.0              ⎤\n",
       "⎢────────────────────────────────⎥\n",
       "⎢        0.333333333333333       ⎥\n",
       "⎣1200.0⋅x                  - 27.0⎦"
      ]
     },
     "execution_count": 216,
     "metadata": {},
     "output_type": "execute_result"
    }
   ],
   "source": [
    "solve(g, y)"
   ]
  },
  {
   "cell_type": "markdown",
   "metadata": {},
   "source": [
    "### Jacobiana"
   ]
  },
  {
   "cell_type": "code",
   "execution_count": 192,
   "metadata": {
    "scrolled": false
   },
   "outputs": [
    {
     "data": {
      "image/png": "[encoded data removed]",
      "text/latex": [
       "$$\\left[\\begin{matrix}- \\frac{0.25 y}{x^{0.75}} - 0.002 x + 0.1 & - x^{0.25}\\\\\\frac{1.0 y}{x^{0.75}} & 4 x^{0.25} - 0.09\\end{matrix}\\right]$$"
      ],
      "text/plain": [
       "⎡        -0.75                          0.25    ⎤\n",
       "⎢- 0.25⋅x     ⋅y - 0.002⋅x + 0.1      -x        ⎥\n",
       "⎢                                               ⎥\n",
       "⎢              -0.75                 0.25       ⎥\n",
       "⎣         1.0⋅x     ⋅y            4⋅x     - 0.09⎦"
      ]
     },
     "execution_count": 192,
     "metadata": {},
     "output_type": "execute_result"
    }
   ],
   "source": [
    "J = symbols(\"J\")\n",
    "\n",
    "J = Matrix([[diff(f, x), diff(f, y)], \n",
    "            [diff(g, x), diff(g, y)]])\n",
    "J"
   ]
  },
  {
   "cell_type": "code",
   "execution_count": 158,
   "metadata": {},
   "outputs": [
    {
     "data": {
      "image/png": "[encoded data removed]",
      "text/latex": [
       "$$\\left[\\begin{matrix}-246.893540246914 & 0.222222222222222\\\\148.148148148148 & -0.223333333333333\\end{matrix}\\right]$$"
      ],
      "text/plain": [
       "⎡-246.893540246914  0.222222222222222 ⎤\n",
       "⎢                                     ⎥\n",
       "⎣148.148148148148   -0.223333333333333⎦"
      ]
     },
     "execution_count": 158,
     "metadata": {},
     "output_type": "execute_result"
    }
   ],
   "source": [
    "J = J.subs({x: -0.1, y:100})\n",
    "J"
   ]
  },
  {
   "cell_type": "code",
   "execution_count": 159,
   "metadata": {
    "scrolled": true
   },
   "outputs": [
    {
     "data": {
      "image/png": "[encoded data removed]",
      "text/latex": [
       "$$\\left ( 22.2177466222222, \\quad -247.116873580247\\right )$$"
      ],
      "text/plain": [
       "(22.2177466222222, -247.116873580247)"
      ]
     },
     "execution_count": 159,
     "metadata": {},
     "output_type": "execute_result"
    }
   ],
   "source": [
    "J.det(), J.trace()"
   ]
  },
  {
   "cell_type": "code",
   "execution_count": 226,
   "metadata": {},
   "outputs": [
    {
     "data": {
      "text/plain": [
       "<matplotlib.quiver.Quiver at 0x7f8a686efe10>"
      ]
     },
     "execution_count": 226,
     "metadata": {},
     "output_type": "execute_result"
    },
    {
     "data": {
      "image/png": "[encoded data removed]",
      "text/plain": [
       "<Figure size 432x288 with 1 Axes>"
      ]
     },
     "metadata": {},
     "output_type": "display_data"
    }
   ],
   "source": [
    "i, j = np.meshgrid(np.linspace(0, 1, 11),\n",
    "                   np.linspace(-2, 2, 11))\n",
    "\n",
    "F = lambdify((x,y), f)\n",
    "G = lambdify((x,y), g)\n",
    "\n",
    "u = F(i, j)\n",
    "v = G(i, j)\n",
    "\n",
    "plt.xlabel(\"$\\dot{x}$\")\n",
    "plt.ylabel(\"$\\dot{y}$\")\n",
    "\n",
    "plt.quiver(i, j, u, v)\n"
   ]
  }
 ],
 "metadata": {
  "kernelspec": {
   "display_name": "Python 3",
   "language": "python",
   "name": "python3"
  },
  "language_info": {
   "codemirror_mode": {
    "name": "ipython",
    "version": 3
   },
   "file_extension": ".py",
   "mimetype": "text/x-python",
   "name": "python",
   "nbconvert_exporter": "python",
   "pygments_lexer": "ipython3",
   "version": "3.4.2"
  }
 },
 "nbformat": 4,
 "nbformat_minor": 2
}
