{
 "cells": [
  {
   "cell_type": "markdown",
   "metadata": {},
   "source": [
    "# Ecuaciones de Volterra\n",
    "\n",
    "$$ \\begin{array}{c}\n",
    "\\dot{x}=ax-bx^{2}-cxy\\\\\n",
    "\\dot{y}=-ey+c'xy\n",
    "\\end{array} $$\n",
    "\n",
    "Se asume que:\n",
    "\n",
    " - si no hay depredadores, la población de presas sigue la ecuación logística, con tasa de crecimiento $ a $ y capacidad de carga $ a/b $.\n",
    " - la tasa a la que se comen la presa es proporcional al producto de las densidades de presa y depredador"
   ]
  },
  {
   "cell_type": "markdown",
   "metadata": {},
   "source": [
    "# Modelo Rosenzweig-MacArthur\n",
    "\n",
    "$$ \\begin{array}{c}\n",
    "\\dot{x}=f(x)-\\phi(x,y)\\\\\n",
    "\\dot{y}=-ey+k\\phi(x,y)\n",
    "\\end{array} $$\n",
    "\n",
    "Donde $ f(x) $ es la tasa de cambio de $ x $ cuando no hay depredación, $ \\phi(x,y) $ es la tasa de depredación, $ k $ la eficiencia con la que los depredadores asimilan a las presas y $ e $ la tasa de mortandad del depredador. Se asume que sólo la cantidad de presas limita la población de depredadores. Se pueden simplificar si se asume que sólo la densidad de presas limita su disponibilidad a los depredadores, y no depende de la densidad de depredadores.\n",
    "\n",
    "$$ \\begin{array}{c}\n",
    "\\dot{x}=f(x)-y\\phi(x)\\\\\n",
    "\\dot{y}=-ey+ky\\phi(x)\n",
    "\\end{array} $$\n"
   ]
  }
 ],
 "metadata": {
  "kernelspec": {
   "display_name": "Python 3",
   "language": "python",
   "name": "python3"
  },
  "language_info": {
   "codemirror_mode": {
    "name": "ipython",
    "version": 3
   },
   "file_extension": ".py",
   "mimetype": "text/x-python",
   "name": "python",
   "nbconvert_exporter": "python",
   "pygments_lexer": "ipython3",
   "version": "3.4.2"
  }
 },
 "nbformat": 4,
 "nbformat_minor": 2
}
